{
 "cells": [
  {
   "cell_type": "code",
   "execution_count": 1,
   "id": "6d323d30",
   "metadata": {},
   "outputs": [],
   "source": [
    "import pandas as pd"
   ]
  },
  {
   "cell_type": "code",
   "execution_count": 2,
   "id": "c9bb109b",
   "metadata": {},
   "outputs": [],
   "source": [
    "df=pd.read_csv('Laptop_Data.csv')\n",
    "df.drop(columns=['Unnamed: 0'],inplace=True)"
   ]
  },
  {
   "cell_type": "markdown",
   "id": "9fb27734",
   "metadata": {},
   "source": [
    "# Data Cleaning"
   ]
  },
  {
   "cell_type": "code",
   "execution_count": 3,
   "id": "f498f581",
   "metadata": {},
   "outputs": [
    {
     "data": {
      "text/html": [
       "<div>\n",
       "<style scoped>\n",
       "    .dataframe tbody tr th:only-of-type {\n",
       "        vertical-align: middle;\n",
       "    }\n",
       "\n",
       "    .dataframe tbody tr th {\n",
       "        vertical-align: top;\n",
       "    }\n",
       "\n",
       "    .dataframe thead th {\n",
       "        text-align: right;\n",
       "    }\n",
       "</style>\n",
       "<table border=\"1\" class=\"dataframe\">\n",
       "  <thead>\n",
       "    <tr style=\"text-align: right;\">\n",
       "      <th></th>\n",
       "      <th>Screen_size</th>\n",
       "      <th>RAM</th>\n",
       "      <th>Storage_amount</th>\n",
       "      <th>original_price</th>\n",
       "      <th>after_discount</th>\n",
       "      <th>discount_percent</th>\n",
       "    </tr>\n",
       "  </thead>\n",
       "  <tbody>\n",
       "    <tr>\n",
       "      <th>count</th>\n",
       "      <td>6256.000000</td>\n",
       "      <td>6256.000000</td>\n",
       "      <td>6.254000e+03</td>\n",
       "      <td>3.250000e+02</td>\n",
       "      <td>4.140000e+02</td>\n",
       "      <td>6256.000000</td>\n",
       "    </tr>\n",
       "    <tr>\n",
       "      <th>mean</th>\n",
       "      <td>15.344246</td>\n",
       "      <td>12.439578</td>\n",
       "      <td>2.192370e+06</td>\n",
       "      <td>4.524012e+07</td>\n",
       "      <td>4.512164e+07</td>\n",
       "      <td>0.047711</td>\n",
       "    </tr>\n",
       "    <tr>\n",
       "      <th>std</th>\n",
       "      <td>0.902921</td>\n",
       "      <td>9.122202</td>\n",
       "      <td>5.618973e+07</td>\n",
       "      <td>3.310885e+07</td>\n",
       "      <td>3.436404e+07</td>\n",
       "      <td>0.283193</td>\n",
       "    </tr>\n",
       "    <tr>\n",
       "      <th>min</th>\n",
       "      <td>10.000000</td>\n",
       "      <td>2.000000</td>\n",
       "      <td>1.024000e+03</td>\n",
       "      <td>1.100000e+07</td>\n",
       "      <td>1.090000e+07</td>\n",
       "      <td>0.000000</td>\n",
       "    </tr>\n",
       "    <tr>\n",
       "      <th>25%</th>\n",
       "      <td>15.600000</td>\n",
       "      <td>8.000000</td>\n",
       "      <td>1.024000e+03</td>\n",
       "      <td>2.375000e+07</td>\n",
       "      <td>2.205000e+07</td>\n",
       "      <td>0.000000</td>\n",
       "    </tr>\n",
       "    <tr>\n",
       "      <th>50%</th>\n",
       "      <td>15.600000</td>\n",
       "      <td>8.000000</td>\n",
       "      <td>2.621440e+05</td>\n",
       "      <td>3.530000e+07</td>\n",
       "      <td>3.440900e+07</td>\n",
       "      <td>0.000000</td>\n",
       "    </tr>\n",
       "    <tr>\n",
       "      <th>75%</th>\n",
       "      <td>15.600000</td>\n",
       "      <td>16.000000</td>\n",
       "      <td>1.311744e+06</td>\n",
       "      <td>5.788800e+07</td>\n",
       "      <td>5.688800e+07</td>\n",
       "      <td>0.000000</td>\n",
       "    </tr>\n",
       "    <tr>\n",
       "      <th>max</th>\n",
       "      <td>18.400000</td>\n",
       "      <td>128.000000</td>\n",
       "      <td>2.562622e+09</td>\n",
       "      <td>3.309990e+08</td>\n",
       "      <td>3.308890e+08</td>\n",
       "      <td>7.650000</td>\n",
       "    </tr>\n",
       "  </tbody>\n",
       "</table>\n",
       "</div>"
      ],
      "text/plain": [
       "       Screen_size          RAM  Storage_amount  original_price  \\\n",
       "count  6256.000000  6256.000000    6.254000e+03    3.250000e+02   \n",
       "mean     15.344246    12.439578    2.192370e+06    4.524012e+07   \n",
       "std       0.902921     9.122202    5.618973e+07    3.310885e+07   \n",
       "min      10.000000     2.000000    1.024000e+03    1.100000e+07   \n",
       "25%      15.600000     8.000000    1.024000e+03    2.375000e+07   \n",
       "50%      15.600000     8.000000    2.621440e+05    3.530000e+07   \n",
       "75%      15.600000    16.000000    1.311744e+06    5.788800e+07   \n",
       "max      18.400000   128.000000    2.562622e+09    3.309990e+08   \n",
       "\n",
       "       after_discount  discount_percent  \n",
       "count    4.140000e+02       6256.000000  \n",
       "mean     4.512164e+07          0.047711  \n",
       "std      3.436404e+07          0.283193  \n",
       "min      1.090000e+07          0.000000  \n",
       "25%      2.205000e+07          0.000000  \n",
       "50%      3.440900e+07          0.000000  \n",
       "75%      5.688800e+07          0.000000  \n",
       "max      3.308890e+08          7.650000  "
      ]
     },
     "execution_count": 3,
     "metadata": {},
     "output_type": "execute_result"
    }
   ],
   "source": [
    "df.describe()"
   ]
  },
  {
   "cell_type": "code",
   "execution_count": 4,
   "id": "6d28881e",
   "metadata": {},
   "outputs": [
    {
     "name": "stdout",
     "output_type": "stream",
     "text": [
      "<class 'pandas.core.frame.DataFrame'>\n",
      "RangeIndex: 6256 entries, 0 to 6255\n",
      "Data columns (total 20 columns):\n",
      " #   Column             Non-Null Count  Dtype  \n",
      "---  ------             --------------  -----  \n",
      " 0   Weight             6256 non-null   object \n",
      " 1   Category           5808 non-null   object \n",
      " 2   Screen_size        6256 non-null   float64\n",
      " 3   Screen_type        5655 non-null   object \n",
      " 4   Screen_resolution  6213 non-null   object \n",
      " 5   CPU_Brand          6255 non-null   object \n",
      " 6   CPU_series         6059 non-null   object \n",
      " 7   CPU_model          5911 non-null   object \n",
      " 8   RAM                6256 non-null   float64\n",
      " 9   Storage_amount     6254 non-null   float64\n",
      " 10  Storage_type       6251 non-null   object \n",
      " 11  Storage_info       1840 non-null   object \n",
      " 12  GPU_Brand          6245 non-null   object \n",
      " 13  GPU_Model          6105 non-null   object \n",
      " 14  OS                 3395 non-null   object \n",
      " 15  original_price     325 non-null    float64\n",
      " 16  after_discount     414 non-null    float64\n",
      " 17  persian_info       6256 non-null   object \n",
      " 18  full_info          6256 non-null   object \n",
      " 19  discount_percent   6256 non-null   float64\n",
      "dtypes: float64(6), object(14)\n",
      "memory usage: 977.6+ KB\n"
     ]
    }
   ],
   "source": [
    "df.info()"
   ]
  },
  {
   "cell_type": "code",
   "execution_count": 5,
   "id": "16462518",
   "metadata": {},
   "outputs": [
    {
     "data": {
      "text/plain": [
       "(6256, 20)"
      ]
     },
     "execution_count": 5,
     "metadata": {},
     "output_type": "execute_result"
    }
   ],
   "source": [
    "df.shape"
   ]
  },
  {
   "cell_type": "code",
   "execution_count": 6,
   "id": "19d5714d",
   "metadata": {},
   "outputs": [],
   "source": [
    "def clean_column(df, column):\n",
    "    df[column] = df[column].replace({\n",
    "        'SSDHDD': 'SSD, HDD',\n",
    "        'SSDSATA': 'SSD, SATA',\n",
    "        'SSDحافظه‌های هیبردی': 'SSD, Hybrid Storage',\n",
    "        'SSDHDDحافظه‌های هیبردی': 'SSD, HDD, Hybrid Storage',\n",
    "        'SSDSSHD': 'SSD, SSHD',\n",
    "        'SSHDSATA': 'SSHD, SATA',\n",
    "        'SSDSATAحافظه‌های هیبردی': 'SSD, SATA, Hybrid Storage',\n",
    "        'حافظه‌های هیبردی':'Hybrid'\n",
    "    })\n",
    "    return df\n",
    "\n",
    "df = clean_column(df, 'Storage_type')\n",
    "df['Storage_type']=df['Storage_type'].replace(['SSD, Hybrid Storage','SSD, HDD, Hybrid Storage',\n",
    "                                              'SSHD','SSD, SSHD'],'Hybrid')\n",
    "df['Storage_type']=df['Storage_type'].replace('','eMMC')\n",
    "df['Storage_type']=df['Storage_type'].replace(['SSD, HDD','Hybrid'],'Hybrid')\n",
    "df['Storage_type']=df['Storage_type'].replace(['SSD, SATA, Hybrid Storage','SSHD, SATA'],'SSD, SATA')"
   ]
  },
  {
   "cell_type": "code",
   "execution_count": 7,
   "id": "d21bb58a",
   "metadata": {},
   "outputs": [
    {
     "data": {
      "text/plain": [
       "SSD          2283\n",
       "Hybrid       1440\n",
       "SATA         1370\n",
       "HDD           874\n",
       "SSD, SATA     277\n",
       "eMMC            7\n",
       "Name: Storage_type, dtype: int64"
      ]
     },
     "execution_count": 7,
     "metadata": {},
     "output_type": "execute_result"
    }
   ],
   "source": [
    "df['Storage_type'].value_counts()"
   ]
  },
  {
   "cell_type": "markdown",
   "id": "2834078b",
   "metadata": {},
   "source": [
    "### selecting priced data\n",
    "### selecting Common Storage type\n",
    "### removing kg and making the weight column type float64"
   ]
  },
  {
   "cell_type": "markdown",
   "id": "b770c578",
   "metadata": {},
   "source": [
    "weight column is not cleaned yet\n",
    "wait for that"
   ]
  },
  {
   "cell_type": "code",
   "execution_count": 8,
   "id": "421133b7",
   "metadata": {},
   "outputs": [
    {
     "name": "stdout",
     "output_type": "stream",
     "text": [
      "<class 'pandas.core.frame.DataFrame'>\n",
      "Int64Index: 414 entries, 0 to 472\n",
      "Data columns (total 20 columns):\n",
      " #   Column             Non-Null Count  Dtype  \n",
      "---  ------             --------------  -----  \n",
      " 0   Weight             414 non-null    float64\n",
      " 1   Category           411 non-null    object \n",
      " 2   Screen_size        414 non-null    float64\n",
      " 3   Screen_type        341 non-null    object \n",
      " 4   Screen_resolution  398 non-null    object \n",
      " 5   CPU_Brand          414 non-null    object \n",
      " 6   CPU_series         414 non-null    object \n",
      " 7   CPU_model          380 non-null    object \n",
      " 8   RAM                414 non-null    float64\n",
      " 9   Storage_amount     414 non-null    float64\n",
      " 10  Storage_type       414 non-null    object \n",
      " 11  Storage_info       322 non-null    object \n",
      " 12  GPU_Brand          414 non-null    object \n",
      " 13  GPU_Model          406 non-null    object \n",
      " 14  OS                 197 non-null    object \n",
      " 15  original_price     325 non-null    float64\n",
      " 16  after_discount     414 non-null    float64\n",
      " 17  persian_info       414 non-null    object \n",
      " 18  full_info          414 non-null    object \n",
      " 19  discount_percent   414 non-null    float64\n",
      "dtypes: float64(7), object(13)\n",
      "memory usage: 67.9+ KB\n"
     ]
    }
   ],
   "source": [
    "df=df[df['after_discount'].notnull()]\n",
    "\n",
    "df['Weight']=df['Weight'].str.replace('KG','').astype('float64')\n",
    "df.info()"
   ]
  },
  {
   "cell_type": "markdown",
   "id": "1946f594",
   "metadata": {},
   "source": [
    "### removing some outliers of screen type column"
   ]
  },
  {
   "cell_type": "code",
   "execution_count": 9,
   "id": "511c6ca2",
   "metadata": {},
   "outputs": [
    {
     "data": {
      "text/plain": [
       "fhd                                              96\n",
       "IPS                                              85\n",
       "PixelSense™ Display                              46\n",
       "FHD TN                                           18\n",
       "TN                                               18\n",
       "Liquid Retina XDR display                        12\n",
       "OLED                                              9\n",
       "WUXGA                                             8\n",
       "15.3inch Liquid Retina display with True Tone     7\n",
       "FHD IPS                                           5\n",
       "TN Full HD                                        4\n",
       "IPS-level Panel, LED Backlit                      4\n",
       "Name: Screen_type, dtype: int64"
      ]
     },
     "execution_count": 9,
     "metadata": {},
     "output_type": "execute_result"
    }
   ],
   "source": [
    "df['Screen_type']=df['Screen_type'].replace(['13.6inch (diagonal) LED-backlit display with IPS technology','Full HD (1920×1080)','FULL HD','Full HD','فول اچ دی','FHD TN,Full HD TN','Full HD TN'],'fhd')\n",
    "df['Screen_type']=df['Screen_type'].replace(['IPS-level Panel, LED Backlit ','IPS LED-backlit LCD','13.6inch (diagonal) LED-backlit display with IPS technology','13.3inch (diagonal) LED-backlit display with IPS technology','13.6inch (diagonal) LED-backlit display with IPS technology','Retina - IPS LED-backlit LCD','13.6inch (diagonal) LED-backlit display with IPS technology','Retina - IPS LED-backlit LCD'])\n",
    "counts = df['Screen_type'].value_counts()\n",
    "df=df[df['Screen_type'].isin(counts[counts > 3].index)]\n",
    "df['Screen_type'].value_counts()"
   ]
  },
  {
   "cell_type": "code",
   "execution_count": 10,
   "id": "c4778982",
   "metadata": {},
   "outputs": [
    {
     "data": {
      "text/html": [
       "<div>\n",
       "<style scoped>\n",
       "    .dataframe tbody tr th:only-of-type {\n",
       "        vertical-align: middle;\n",
       "    }\n",
       "\n",
       "    .dataframe tbody tr th {\n",
       "        vertical-align: top;\n",
       "    }\n",
       "\n",
       "    .dataframe thead th {\n",
       "        text-align: right;\n",
       "    }\n",
       "</style>\n",
       "<table border=\"1\" class=\"dataframe\">\n",
       "  <thead>\n",
       "    <tr style=\"text-align: right;\">\n",
       "      <th></th>\n",
       "      <th>Weight</th>\n",
       "      <th>Category</th>\n",
       "      <th>Screen_size</th>\n",
       "      <th>Screen_type</th>\n",
       "      <th>Screen_resolution</th>\n",
       "      <th>CPU_Brand</th>\n",
       "      <th>CPU_series</th>\n",
       "      <th>CPU_model</th>\n",
       "      <th>RAM</th>\n",
       "      <th>Storage_amount</th>\n",
       "      <th>Storage_type</th>\n",
       "      <th>Storage_info</th>\n",
       "      <th>GPU_Brand</th>\n",
       "      <th>GPU_Model</th>\n",
       "      <th>OS</th>\n",
       "      <th>original_price</th>\n",
       "      <th>after_discount</th>\n",
       "      <th>persian_info</th>\n",
       "      <th>full_info</th>\n",
       "      <th>discount_percent</th>\n",
       "    </tr>\n",
       "  </thead>\n",
       "  <tbody>\n",
       "    <tr>\n",
       "      <th>0</th>\n",
       "      <td>1.24</td>\n",
       "      <td>مک‌بوک</td>\n",
       "      <td>13.6</td>\n",
       "      <td>fhd</td>\n",
       "      <td>1600 * 2560</td>\n",
       "      <td>Apple</td>\n",
       "      <td>M2</td>\n",
       "      <td>8core CPU with 4 performance cores and 4 effic...</td>\n",
       "      <td>8.0</td>\n",
       "      <td>524288.0</td>\n",
       "      <td>SSD</td>\n",
       "      <td>SSD NVMe</td>\n",
       "      <td>Apple</td>\n",
       "      <td>10 هسته ای</td>\n",
       "      <td>NaN</td>\n",
       "      <td>74000000.0</td>\n",
       "      <td>73000000.0</td>\n",
       "      <td>لپ تاپ اپل 13.6 اینچی مدل Apple MacBook Air 20...</td>\n",
       "      <td>Apple MacBook Air 2022 Midnight MLY43 M2 8GB 5...</td>\n",
       "      <td>1.35</td>\n",
       "    </tr>\n",
       "    <tr>\n",
       "      <th>1</th>\n",
       "      <td>1.24</td>\n",
       "      <td>مک‌بوک</td>\n",
       "      <td>13.6</td>\n",
       "      <td>fhd</td>\n",
       "      <td>1600 * 2560</td>\n",
       "      <td>Apple</td>\n",
       "      <td>M2</td>\n",
       "      <td>8core CPU with 4 performance cores and 4 effic...</td>\n",
       "      <td>8.0</td>\n",
       "      <td>524288.0</td>\n",
       "      <td>SSD</td>\n",
       "      <td>SSD NVMe</td>\n",
       "      <td>Apple</td>\n",
       "      <td>10 هسته ای</td>\n",
       "      <td>NaN</td>\n",
       "      <td>74300000.0</td>\n",
       "      <td>73300000.0</td>\n",
       "      <td>لپ تاپ اپل 13.6 اینچی مدل Apple MacBook Air 20...</td>\n",
       "      <td>Apple MacBook Air 2022 Starlight MLY23 M2 8GB ...</td>\n",
       "      <td>1.35</td>\n",
       "    </tr>\n",
       "    <tr>\n",
       "      <th>2</th>\n",
       "      <td>1.24</td>\n",
       "      <td>مک‌بوک</td>\n",
       "      <td>13.6</td>\n",
       "      <td>fhd</td>\n",
       "      <td>1600 * 2560</td>\n",
       "      <td>Apple</td>\n",
       "      <td>M2</td>\n",
       "      <td>8core CPU with 4 performance cores and 4 effic...</td>\n",
       "      <td>8.0</td>\n",
       "      <td>262144.0</td>\n",
       "      <td>SSD</td>\n",
       "      <td>SSD NVMe</td>\n",
       "      <td>Apple</td>\n",
       "      <td>NaN</td>\n",
       "      <td>NaN</td>\n",
       "      <td>62300000.0</td>\n",
       "      <td>61300000.0</td>\n",
       "      <td>لپ تاپ اپل 13.6 اینچی مدل Apple MacBook Air 20...</td>\n",
       "      <td>Apple MacBook Air 2022 Silver MLXY3 M2 8GB 256...</td>\n",
       "      <td>1.61</td>\n",
       "    </tr>\n",
       "    <tr>\n",
       "      <th>3</th>\n",
       "      <td>1.24</td>\n",
       "      <td>مک‌بوک</td>\n",
       "      <td>13.6</td>\n",
       "      <td>fhd</td>\n",
       "      <td>1600 * 2560</td>\n",
       "      <td>Apple</td>\n",
       "      <td>M2</td>\n",
       "      <td>8core CPU with 4 performance cores and 4 effic...</td>\n",
       "      <td>8.0</td>\n",
       "      <td>524288.0</td>\n",
       "      <td>SSD</td>\n",
       "      <td>SSD NVMe</td>\n",
       "      <td>Apple</td>\n",
       "      <td>10 هسته ای</td>\n",
       "      <td>NaN</td>\n",
       "      <td>75300000.0</td>\n",
       "      <td>74300000.0</td>\n",
       "      <td>لپ تاپ اپل 13.6 اینچی مدل Apple MacBook Air 20...</td>\n",
       "      <td>Apple MacBook Air 2022 Space Gray MLXX3 M2 8GB...</td>\n",
       "      <td>1.33</td>\n",
       "    </tr>\n",
       "    <tr>\n",
       "      <th>4</th>\n",
       "      <td>1.75</td>\n",
       "      <td>نوت بوک (لپ تاپ)</td>\n",
       "      <td>15.6</td>\n",
       "      <td>FHD TN</td>\n",
       "      <td>1080 * 1920</td>\n",
       "      <td>INTEL</td>\n",
       "      <td>Core i3</td>\n",
       "      <td>I3-1115G4</td>\n",
       "      <td>20.0</td>\n",
       "      <td>524288.0</td>\n",
       "      <td>SSD</td>\n",
       "      <td>SSD NVMe</td>\n",
       "      <td>Intel</td>\n",
       "      <td>UHD</td>\n",
       "      <td>Dos</td>\n",
       "      <td>NaN</td>\n",
       "      <td>17270000.0</td>\n",
       "      <td>لپ تاپ لنوو 15.6 اینچی مدل Ideapad 3 پردازنده ...</td>\n",
       "      <td>Ideapad 3 Core i3 1115G4 20GB 512GB SSD Intel ...</td>\n",
       "      <td>0.00</td>\n",
       "    </tr>\n",
       "  </tbody>\n",
       "</table>\n",
       "</div>"
      ],
      "text/plain": [
       "   Weight          Category  Screen_size Screen_type Screen_resolution  \\\n",
       "0    1.24            مک‌بوک         13.6         fhd       1600 * 2560   \n",
       "1    1.24            مک‌بوک         13.6         fhd       1600 * 2560   \n",
       "2    1.24            مک‌بوک         13.6         fhd       1600 * 2560   \n",
       "3    1.24            مک‌بوک         13.6         fhd       1600 * 2560   \n",
       "4    1.75  نوت بوک (لپ تاپ)         15.6      FHD TN       1080 * 1920   \n",
       "\n",
       "  CPU_Brand CPU_series                                          CPU_model  \\\n",
       "0     Apple         M2  8core CPU with 4 performance cores and 4 effic...   \n",
       "1     Apple         M2  8core CPU with 4 performance cores and 4 effic...   \n",
       "2     Apple         M2  8core CPU with 4 performance cores and 4 effic...   \n",
       "3     Apple         M2  8core CPU with 4 performance cores and 4 effic...   \n",
       "4     INTEL    Core i3                                          I3-1115G4   \n",
       "\n",
       "    RAM  Storage_amount Storage_type Storage_info GPU_Brand   GPU_Model   OS  \\\n",
       "0   8.0        524288.0          SSD     SSD NVMe     Apple  10 هسته ای  NaN   \n",
       "1   8.0        524288.0          SSD     SSD NVMe     Apple  10 هسته ای  NaN   \n",
       "2   8.0        262144.0          SSD     SSD NVMe     Apple         NaN  NaN   \n",
       "3   8.0        524288.0          SSD     SSD NVMe     Apple  10 هسته ای  NaN   \n",
       "4  20.0        524288.0          SSD     SSD NVMe     Intel         UHD  Dos   \n",
       "\n",
       "   original_price  after_discount  \\\n",
       "0      74000000.0      73000000.0   \n",
       "1      74300000.0      73300000.0   \n",
       "2      62300000.0      61300000.0   \n",
       "3      75300000.0      74300000.0   \n",
       "4             NaN      17270000.0   \n",
       "\n",
       "                                        persian_info  \\\n",
       "0  لپ تاپ اپل 13.6 اینچی مدل Apple MacBook Air 20...   \n",
       "1  لپ تاپ اپل 13.6 اینچی مدل Apple MacBook Air 20...   \n",
       "2  لپ تاپ اپل 13.6 اینچی مدل Apple MacBook Air 20...   \n",
       "3  لپ تاپ اپل 13.6 اینچی مدل Apple MacBook Air 20...   \n",
       "4  لپ تاپ لنوو 15.6 اینچی مدل Ideapad 3 پردازنده ...   \n",
       "\n",
       "                                           full_info  discount_percent  \n",
       "0  Apple MacBook Air 2022 Midnight MLY43 M2 8GB 5...              1.35  \n",
       "1  Apple MacBook Air 2022 Starlight MLY23 M2 8GB ...              1.35  \n",
       "2  Apple MacBook Air 2022 Silver MLXY3 M2 8GB 256...              1.61  \n",
       "3  Apple MacBook Air 2022 Space Gray MLXX3 M2 8GB...              1.33  \n",
       "4  Ideapad 3 Core i3 1115G4 20GB 512GB SSD Intel ...              0.00  "
      ]
     },
     "execution_count": 10,
     "metadata": {},
     "output_type": "execute_result"
    }
   ],
   "source": [
    "df.head()"
   ]
  },
  {
   "cell_type": "markdown",
   "id": "cf8e6478",
   "metadata": {},
   "source": [
    "screen type is kinda cleaned"
   ]
  },
  {
   "cell_type": "markdown",
   "id": "25d2c28c",
   "metadata": {},
   "source": [
    "# removing outliers of weight column"
   ]
  },
  {
   "cell_type": "code",
   "execution_count": 11,
   "id": "4898a02a",
   "metadata": {},
   "outputs": [
    {
     "data": {
      "text/html": [
       "<div>\n",
       "<style scoped>\n",
       "    .dataframe tbody tr th:only-of-type {\n",
       "        vertical-align: middle;\n",
       "    }\n",
       "\n",
       "    .dataframe tbody tr th {\n",
       "        vertical-align: top;\n",
       "    }\n",
       "\n",
       "    .dataframe thead th {\n",
       "        text-align: right;\n",
       "    }\n",
       "</style>\n",
       "<table border=\"1\" class=\"dataframe\">\n",
       "  <thead>\n",
       "    <tr style=\"text-align: right;\">\n",
       "      <th></th>\n",
       "      <th>Weight</th>\n",
       "      <th>Category</th>\n",
       "      <th>Screen_size</th>\n",
       "      <th>Screen_type</th>\n",
       "      <th>Screen_resolution</th>\n",
       "      <th>CPU_Brand</th>\n",
       "      <th>CPU_series</th>\n",
       "      <th>CPU_model</th>\n",
       "      <th>RAM</th>\n",
       "      <th>Storage_amount</th>\n",
       "      <th>Storage_type</th>\n",
       "      <th>Storage_info</th>\n",
       "      <th>GPU_Brand</th>\n",
       "      <th>GPU_Model</th>\n",
       "      <th>OS</th>\n",
       "      <th>original_price</th>\n",
       "      <th>after_discount</th>\n",
       "      <th>persian_info</th>\n",
       "      <th>full_info</th>\n",
       "      <th>discount_percent</th>\n",
       "    </tr>\n",
       "  </thead>\n",
       "  <tbody>\n",
       "    <tr>\n",
       "      <th>0</th>\n",
       "      <td>1.24</td>\n",
       "      <td>مک‌بوک</td>\n",
       "      <td>13.6</td>\n",
       "      <td>fhd</td>\n",
       "      <td>1600 * 2560</td>\n",
       "      <td>Apple</td>\n",
       "      <td>M2</td>\n",
       "      <td>8core CPU with 4 performance cores and 4 effic...</td>\n",
       "      <td>8.0</td>\n",
       "      <td>524288.0</td>\n",
       "      <td>SSD</td>\n",
       "      <td>SSD NVMe</td>\n",
       "      <td>Apple</td>\n",
       "      <td>10 هسته ای</td>\n",
       "      <td>NaN</td>\n",
       "      <td>74000000.0</td>\n",
       "      <td>73000000.0</td>\n",
       "      <td>لپ تاپ اپل 13.6 اینچی مدل Apple MacBook Air 20...</td>\n",
       "      <td>Apple MacBook Air 2022 Midnight MLY43 M2 8GB 5...</td>\n",
       "      <td>1.35</td>\n",
       "    </tr>\n",
       "    <tr>\n",
       "      <th>1</th>\n",
       "      <td>1.24</td>\n",
       "      <td>مک‌بوک</td>\n",
       "      <td>13.6</td>\n",
       "      <td>fhd</td>\n",
       "      <td>1600 * 2560</td>\n",
       "      <td>Apple</td>\n",
       "      <td>M2</td>\n",
       "      <td>8core CPU with 4 performance cores and 4 effic...</td>\n",
       "      <td>8.0</td>\n",
       "      <td>524288.0</td>\n",
       "      <td>SSD</td>\n",
       "      <td>SSD NVMe</td>\n",
       "      <td>Apple</td>\n",
       "      <td>10 هسته ای</td>\n",
       "      <td>NaN</td>\n",
       "      <td>74300000.0</td>\n",
       "      <td>73300000.0</td>\n",
       "      <td>لپ تاپ اپل 13.6 اینچی مدل Apple MacBook Air 20...</td>\n",
       "      <td>Apple MacBook Air 2022 Starlight MLY23 M2 8GB ...</td>\n",
       "      <td>1.35</td>\n",
       "    </tr>\n",
       "    <tr>\n",
       "      <th>2</th>\n",
       "      <td>1.24</td>\n",
       "      <td>مک‌بوک</td>\n",
       "      <td>13.6</td>\n",
       "      <td>fhd</td>\n",
       "      <td>1600 * 2560</td>\n",
       "      <td>Apple</td>\n",
       "      <td>M2</td>\n",
       "      <td>8core CPU with 4 performance cores and 4 effic...</td>\n",
       "      <td>8.0</td>\n",
       "      <td>262144.0</td>\n",
       "      <td>SSD</td>\n",
       "      <td>SSD NVMe</td>\n",
       "      <td>Apple</td>\n",
       "      <td>NaN</td>\n",
       "      <td>NaN</td>\n",
       "      <td>62300000.0</td>\n",
       "      <td>61300000.0</td>\n",
       "      <td>لپ تاپ اپل 13.6 اینچی مدل Apple MacBook Air 20...</td>\n",
       "      <td>Apple MacBook Air 2022 Silver MLXY3 M2 8GB 256...</td>\n",
       "      <td>1.61</td>\n",
       "    </tr>\n",
       "    <tr>\n",
       "      <th>3</th>\n",
       "      <td>1.24</td>\n",
       "      <td>مک‌بوک</td>\n",
       "      <td>13.6</td>\n",
       "      <td>fhd</td>\n",
       "      <td>1600 * 2560</td>\n",
       "      <td>Apple</td>\n",
       "      <td>M2</td>\n",
       "      <td>8core CPU with 4 performance cores and 4 effic...</td>\n",
       "      <td>8.0</td>\n",
       "      <td>524288.0</td>\n",
       "      <td>SSD</td>\n",
       "      <td>SSD NVMe</td>\n",
       "      <td>Apple</td>\n",
       "      <td>10 هسته ای</td>\n",
       "      <td>NaN</td>\n",
       "      <td>75300000.0</td>\n",
       "      <td>74300000.0</td>\n",
       "      <td>لپ تاپ اپل 13.6 اینچی مدل Apple MacBook Air 20...</td>\n",
       "      <td>Apple MacBook Air 2022 Space Gray MLXX3 M2 8GB...</td>\n",
       "      <td>1.33</td>\n",
       "    </tr>\n",
       "    <tr>\n",
       "      <th>4</th>\n",
       "      <td>1.75</td>\n",
       "      <td>نوت بوک (لپ تاپ)</td>\n",
       "      <td>15.6</td>\n",
       "      <td>FHD TN</td>\n",
       "      <td>1080 * 1920</td>\n",
       "      <td>INTEL</td>\n",
       "      <td>Core i3</td>\n",
       "      <td>I3-1115G4</td>\n",
       "      <td>20.0</td>\n",
       "      <td>524288.0</td>\n",
       "      <td>SSD</td>\n",
       "      <td>SSD NVMe</td>\n",
       "      <td>Intel</td>\n",
       "      <td>UHD</td>\n",
       "      <td>Dos</td>\n",
       "      <td>NaN</td>\n",
       "      <td>17270000.0</td>\n",
       "      <td>لپ تاپ لنوو 15.6 اینچی مدل Ideapad 3 پردازنده ...</td>\n",
       "      <td>Ideapad 3 Core i3 1115G4 20GB 512GB SSD Intel ...</td>\n",
       "      <td>0.00</td>\n",
       "    </tr>\n",
       "  </tbody>\n",
       "</table>\n",
       "</div>"
      ],
      "text/plain": [
       "   Weight          Category  Screen_size Screen_type Screen_resolution  \\\n",
       "0    1.24            مک‌بوک         13.6         fhd       1600 * 2560   \n",
       "1    1.24            مک‌بوک         13.6         fhd       1600 * 2560   \n",
       "2    1.24            مک‌بوک         13.6         fhd       1600 * 2560   \n",
       "3    1.24            مک‌بوک         13.6         fhd       1600 * 2560   \n",
       "4    1.75  نوت بوک (لپ تاپ)         15.6      FHD TN       1080 * 1920   \n",
       "\n",
       "  CPU_Brand CPU_series                                          CPU_model  \\\n",
       "0     Apple         M2  8core CPU with 4 performance cores and 4 effic...   \n",
       "1     Apple         M2  8core CPU with 4 performance cores and 4 effic...   \n",
       "2     Apple         M2  8core CPU with 4 performance cores and 4 effic...   \n",
       "3     Apple         M2  8core CPU with 4 performance cores and 4 effic...   \n",
       "4     INTEL    Core i3                                          I3-1115G4   \n",
       "\n",
       "    RAM  Storage_amount Storage_type Storage_info GPU_Brand   GPU_Model   OS  \\\n",
       "0   8.0        524288.0          SSD     SSD NVMe     Apple  10 هسته ای  NaN   \n",
       "1   8.0        524288.0          SSD     SSD NVMe     Apple  10 هسته ای  NaN   \n",
       "2   8.0        262144.0          SSD     SSD NVMe     Apple         NaN  NaN   \n",
       "3   8.0        524288.0          SSD     SSD NVMe     Apple  10 هسته ای  NaN   \n",
       "4  20.0        524288.0          SSD     SSD NVMe     Intel         UHD  Dos   \n",
       "\n",
       "   original_price  after_discount  \\\n",
       "0      74000000.0      73000000.0   \n",
       "1      74300000.0      73300000.0   \n",
       "2      62300000.0      61300000.0   \n",
       "3      75300000.0      74300000.0   \n",
       "4             NaN      17270000.0   \n",
       "\n",
       "                                        persian_info  \\\n",
       "0  لپ تاپ اپل 13.6 اینچی مدل Apple MacBook Air 20...   \n",
       "1  لپ تاپ اپل 13.6 اینچی مدل Apple MacBook Air 20...   \n",
       "2  لپ تاپ اپل 13.6 اینچی مدل Apple MacBook Air 20...   \n",
       "3  لپ تاپ اپل 13.6 اینچی مدل Apple MacBook Air 20...   \n",
       "4  لپ تاپ لنوو 15.6 اینچی مدل Ideapad 3 پردازنده ...   \n",
       "\n",
       "                                           full_info  discount_percent  \n",
       "0  Apple MacBook Air 2022 Midnight MLY43 M2 8GB 5...              1.35  \n",
       "1  Apple MacBook Air 2022 Starlight MLY23 M2 8GB ...              1.35  \n",
       "2  Apple MacBook Air 2022 Silver MLXY3 M2 8GB 256...              1.61  \n",
       "3  Apple MacBook Air 2022 Space Gray MLXX3 M2 8GB...              1.33  \n",
       "4  Ideapad 3 Core i3 1115G4 20GB 512GB SSD Intel ...              0.00  "
      ]
     },
     "execution_count": 11,
     "metadata": {},
     "output_type": "execute_result"
    }
   ],
   "source": [
    "weight=df['Weight'].value_counts()\n",
    "df=df[df['Weight'].isin(weight[weight>1].index)]\n",
    "df.head()"
   ]
  },
  {
   "cell_type": "markdown",
   "id": "337983a3",
   "metadata": {},
   "source": [
    "now weight is cleaned"
   ]
  },
  {
   "cell_type": "markdown",
   "id": "9bcb0ef9",
   "metadata": {},
   "source": [
    "### doing the same for screen size and resolution"
   ]
  },
  {
   "cell_type": "code",
   "execution_count": 12,
   "id": "0645ee32",
   "metadata": {},
   "outputs": [],
   "source": [
    "sc_size=df['Screen_size'].value_counts()\n",
    "df=df[df['Screen_size'].isin(sc_size[sc_size>1].index)]\n",
    "#df\n",
    "# df.shape"
   ]
  },
  {
   "cell_type": "code",
   "execution_count": 13,
   "id": "e23acc1e",
   "metadata": {
    "scrolled": true
   },
   "outputs": [],
   "source": [
    "sc_res=df['Screen_resolution'].value_counts()\n",
    "df=df[df['Screen_resolution'].isin(sc_res[sc_res>1].index)]\n",
    "#df"
   ]
  },
  {
   "cell_type": "code",
   "execution_count": 14,
   "id": "7ef269b5",
   "metadata": {},
   "outputs": [],
   "source": [
    "df['Screen_type'] = df['Screen_type'].str.lower()"
   ]
  },
  {
   "cell_type": "markdown",
   "id": "e31b60e2",
   "metadata": {},
   "source": [
    "THIS WAS A LITTLE BIT TRICKY"
   ]
  },
  {
   "cell_type": "markdown",
   "id": "d9d95986",
   "metadata": {},
   "source": [
    "### CPU MODEL CLEANING"
   ]
  },
  {
   "cell_type": "code",
   "execution_count": 15,
   "id": "a8b45b66",
   "metadata": {},
   "outputs": [],
   "source": [
    "cpu_model=df['CPU_model'].value_counts()\n",
    "df=df[df['CPU_model'].isin(cpu_model[cpu_model>1].index)]\n",
    "#df"
   ]
  },
  {
   "cell_type": "markdown",
   "id": "e65b89b4",
   "metadata": {},
   "source": [
    "cpu model is cleaned"
   ]
  },
  {
   "cell_type": "markdown",
   "id": "956aea6c",
   "metadata": {},
   "source": [
    "### GPU column data cleaning"
   ]
  },
  {
   "cell_type": "code",
   "execution_count": 16,
   "id": "7deacda7",
   "metadata": {},
   "outputs": [
    {
     "data": {
      "text/plain": [
       "Nvidia Gforce    130\n",
       "Intel             88\n",
       "Apple             34\n",
       "Nvidia             7\n",
       "AMD                2\n",
       "AMD Radeon         2\n",
       "Name: GPU_Brand, dtype: int64"
      ]
     },
     "execution_count": 16,
     "metadata": {},
     "output_type": "execute_result"
    }
   ],
   "source": [
    "df['GPU_Brand'].value_counts()"
   ]
  },
  {
   "cell_type": "code",
   "execution_count": 17,
   "id": "cbe56d31",
   "metadata": {},
   "outputs": [],
   "source": [
    "df['GPU_Model'] = df['GPU_Model'].str.lower().str.strip()\n",
    "df['GPU_Model'] = df['GPU_Model'].str.replace('دارای', 'has')\n",
    "df['GPU_Model'] = df['GPU_Model'].str.replace('هسته', 'core')\n",
    "df['GPU_Model'] = df['GPU_Model'].str.replace('پردازش گرافیکی', '')\n",
    "df['GPU_Model'] = df['GPU_Model'].str.replace('ای', '')\n",
    "df['GPU_Model'] = df['GPU_Model'].str.replace('۵۵۰', '550')\n",
    "df['GPU_Model'] = df['GPU_Model'].replace(['uhd','uhd graphics', 'intel® hd graphics','intel uhd graphic','intel® uhd graphics','intel uhd graphics','intel'], 'uhd')\n",
    "df['GPU_Model'] = df['GPU_Model'].replace(['nvidia geforce mx330', 'geforce® mx330'], 'geforce mx330')\n",
    "df['GPU_Model'] = df['GPU_Model'].replace(['nvidia® geforce rtx™3050 ti  laptop gpu with 4gb gddr6','geforce rtx3050', 'rtx 3050','rtx 3050 gddr6','nvidia geforce rtx 3050','rtx™ a2000'], 'rtx 3050')\n",
    "df['GPU_Model'] = df['GPU_Model'].replace(['intel® iris® xe', 'intel iris xe graphics'], 'iris xe graphics')\n",
    "df['GPU_Model'] = df['GPU_Model'].replace(['mx350', 'nvidia geforce mx350'], 'geforce mx350')\n",
    "df['GPU_Model'] = df['GPU_Model'].replace(['geforce mx550 gddr6 - 2gb', 'mx550 gddr6','geforce mx550','nvida mx 550'], 'mx550 gddr6')\n",
    "df['GPU_Model'] = df['GPU_Model'].replace(['iris xe graphics', 'intel iris plus graphics','intel iris','intel® iris™ plus graphics'], 'iris plus')\n",
    "df['GPU_Model'] = df['GPU_Model'].replace(['radeon rx6600m gdd6', 'amd radeon'], 'radeon rx6600m')\n",
    "df['GPU_Model'] = df['GPU_Model'].replace(['nvidia geforce mx450', 'mx450'], 'geforce mx450')\n",
    "df['GPU_Model'] = df['GPU_Model'].replace(['geforce rtx 3060 gddr6', 'geforce rtx 3060'], 'geforce rtx 3060')\n",
    "df['GPU_Model'] = df['GPU_Model'].replace(['gtx 1650 with max-q design', 'nvidia geforce gtx 1650'], 'geforce rtx 3060')\n",
    "df['GPU_Model'] = df['GPU_Model'].replace(['geforce rtx 4060', 'geforce rtx4060 gddr6'], 'geforce rtx 4060')\n",
    "df['GPU_Model'] = df['GPU_Model'].replace(['has 19 core','has 16 core'],'M2 Pro')\n",
    "df['GPU_Model'] = df['GPU_Model'].replace(['10-core gpu','10 core','10core gpu16-core neural engine100gb/s memory bandwidth','10 core'],'M2 10')\n",
    "df['GPU_Model'] = df['GPU_Model'].replace(['14core gpu16core neural engine200gb/s memory bandwidth','has 16 core','16core gpu16core neural engine200gb/s memory bandwidth'],'M 16')\n",
    "df['GPU_Model'] = df['GPU_Model'].replace('has 38 core','M2 Max')\n",
    "\n"
   ]
  },
  {
   "cell_type": "code",
   "execution_count": 18,
   "id": "dd16c8a2",
   "metadata": {
    "scrolled": true
   },
   "outputs": [
    {
     "data": {
      "text/plain": [
       "uhd                           58\n",
       "geforce mx330                 36\n",
       "rtx 3050                      33\n",
       "iris plus                     29\n",
       "mx550 gddr6                   14\n",
       "geforce mx350                 13\n",
       "M2 10                         11\n",
       "geforce mx450                  9\n",
       "geforce rtx 3060               9\n",
       "M 16                           7\n",
       "has 19 core                    6\n",
       "geforce rtx 4060               6\n",
       "geforce rtx2050                5\n",
       "radeon rx6600m                 4\n",
       "10 core                        4\n",
       "mx570 gddr6                    3\n",
       "nvidia geforce mx350 gddr5     3\n",
       "geforce rtx 3070 gddr6         2\n",
       "geforce rtx 4080               2\n",
       "has 38 core                    2\n",
       "geforce® gtx 1050 gddr5        2\n",
       "has 16 core                    2\n",
       "Name: GPU_Model, dtype: int64"
      ]
     },
     "execution_count": 18,
     "metadata": {},
     "output_type": "execute_result"
    }
   ],
   "source": [
    "df['GPU_Model'].value_counts().head(60)"
   ]
  },
  {
   "cell_type": "code",
   "execution_count": 19,
   "id": "946e75d5",
   "metadata": {},
   "outputs": [
    {
     "name": "stdout",
     "output_type": "stream",
     "text": [
      "<class 'pandas.core.frame.DataFrame'>\n",
      "Int64Index: 263 entries, 0 to 472\n",
      "Data columns (total 20 columns):\n",
      " #   Column             Non-Null Count  Dtype  \n",
      "---  ------             --------------  -----  \n",
      " 0   Weight             263 non-null    float64\n",
      " 1   Category           263 non-null    object \n",
      " 2   Screen_size        263 non-null    float64\n",
      " 3   Screen_type        263 non-null    object \n",
      " 4   Screen_resolution  263 non-null    object \n",
      " 5   CPU_Brand          263 non-null    object \n",
      " 6   CPU_series         263 non-null    object \n",
      " 7   CPU_model          263 non-null    object \n",
      " 8   RAM                263 non-null    float64\n",
      " 9   Storage_amount     263 non-null    float64\n",
      " 10  Storage_type       263 non-null    object \n",
      " 11  Storage_info       215 non-null    object \n",
      " 12  GPU_Brand          263 non-null    object \n",
      " 13  GPU_Model          260 non-null    object \n",
      " 14  OS                 126 non-null    object \n",
      " 15  original_price     214 non-null    float64\n",
      " 16  after_discount     263 non-null    float64\n",
      " 17  persian_info       263 non-null    object \n",
      " 18  full_info          263 non-null    object \n",
      " 19  discount_percent   263 non-null    float64\n",
      "dtypes: float64(7), object(13)\n",
      "memory usage: 43.1+ KB\n"
     ]
    }
   ],
   "source": [
    "df.info()"
   ]
  },
  {
   "cell_type": "markdown",
   "id": "210024cb",
   "metadata": {},
   "source": [
    "# Machine Learning is about to begin "
   ]
  },
  {
   "cell_type": "code",
   "execution_count": 20,
   "id": "8242506e",
   "metadata": {},
   "outputs": [],
   "source": [
    "X=df.drop(columns=['Storage_info','OS','original_price','after_discount',\n",
    "                  'persian_info','full_info','discount_percent'])"
   ]
  },
  {
   "cell_type": "code",
   "execution_count": 21,
   "id": "1ae651c1",
   "metadata": {},
   "outputs": [
    {
     "name": "stdout",
     "output_type": "stream",
     "text": [
      "<class 'pandas.core.frame.DataFrame'>\n",
      "Int64Index: 263 entries, 0 to 472\n",
      "Data columns (total 13 columns):\n",
      " #   Column             Non-Null Count  Dtype  \n",
      "---  ------             --------------  -----  \n",
      " 0   Weight             263 non-null    float64\n",
      " 1   Category           263 non-null    object \n",
      " 2   Screen_size        263 non-null    float64\n",
      " 3   Screen_type        263 non-null    object \n",
      " 4   Screen_resolution  263 non-null    object \n",
      " 5   CPU_Brand          263 non-null    object \n",
      " 6   CPU_series         263 non-null    object \n",
      " 7   CPU_model          263 non-null    object \n",
      " 8   RAM                263 non-null    float64\n",
      " 9   Storage_amount     263 non-null    float64\n",
      " 10  Storage_type       263 non-null    object \n",
      " 11  GPU_Brand          263 non-null    object \n",
      " 12  GPU_Model          260 non-null    object \n",
      "dtypes: float64(4), object(9)\n",
      "memory usage: 28.8+ KB\n"
     ]
    }
   ],
   "source": [
    "X.info()"
   ]
  },
  {
   "cell_type": "code",
   "execution_count": 22,
   "id": "572f3401",
   "metadata": {},
   "outputs": [
    {
     "name": "stdout",
     "output_type": "stream",
     "text": [
      "44144612.16730038\n"
     ]
    },
    {
     "data": {
      "text/plain": [
       "(263,)"
      ]
     },
     "execution_count": 22,
     "metadata": {},
     "output_type": "execute_result"
    }
   ],
   "source": [
    "y=df['after_discount']\n",
    "print(y.mean())\n",
    "y.shape"
   ]
  },
  {
   "cell_type": "markdown",
   "id": "edb82f4d",
   "metadata": {},
   "source": [
    "# Model "
   ]
  },
  {
   "cell_type": "code",
   "execution_count": 23,
   "id": "db3284c5",
   "metadata": {},
   "outputs": [
    {
     "name": "stdout",
     "output_type": "stream",
     "text": [
      "Mean Squared Error: 24160571560447.633\n",
      "**************************************************\n",
      "Root Mean Squared Error: 4915340.431795913\n",
      "**************************************************\n",
      "Mean Absolute Error (MAE): 2979921.51675485\n",
      "**************************************************\n",
      "R-squared: 0.9639308433909255\n",
      "**************************************************\n",
      "**************************************************\n",
      "Training Mean Squared Error: 20770621917355.996\n",
      "Training Root Mean Squared Error: 4557479.776955241\n",
      "Training R-squared: 0.9796157098573876\n",
      "**************************************************\n",
      "**************************************************\n",
      "Testing Mean Squared Error: 24160571560447.633\n",
      "Testing Root Mean Squared Error: 4915340.431795913\n",
      "Testing R-squared: 0.9639308433909255\n"
     ]
    }
   ],
   "source": [
    "from sklearn.metrics import accuracy_score\n",
    "from sklearn.ensemble import RandomForestRegressor\n",
    "from sklearn.model_selection import train_test_split\n",
    "from sklearn.preprocessing import LabelEncoder\n",
    "from sklearn.metrics import mean_squared_error\n",
    "import numpy as np\n",
    "from sklearn.metrics import mean_squared_error, r2_score\n",
    "from sklearn.metrics import mean_absolute_error\n",
    "######################################################################\n",
    "le = LabelEncoder()\n",
    "for col in X.columns:\n",
    "    if X[col].dtype == 'object':\n",
    "        X[col] = le.fit_transform(X[col].astype(str))\n",
    "\n",
    "X = X.fillna(X.mean())\n",
    "######################################################################\n",
    "X_train, X_test, y_train, y_test = train_test_split(X, y, test_size=0.1, random_state=42)\n",
    "######################################################################\n",
    "# Train the model\n",
    "model = RandomForestRegressor(n_estimators=7, random_state=42)\n",
    "model.fit(X_train, y_train)\n",
    "y_pred = model.predict(X_test)\n",
    "\n",
    "# Evaluate the model\n",
    "mse = mean_squared_error(y_test, y_pred)\n",
    "print(f'Mean Squared Error: {mse}')\n",
    "print('*'*50)\n",
    "rmse = np.sqrt(mean_squared_error(y_test, y_pred))\n",
    "print('Root Mean Squared Error:', rmse)\n",
    "print('*'*50)\n",
    "mae = mean_absolute_error(y_test, y_pred)\n",
    "print(f'Mean Absolute Error (MAE): {mae}')\n",
    "print('*'*50)\n",
    "r2 = r2_score(y_test, y_pred)\n",
    "print(f'R-squared: {r2}')\n",
    "print('*'*50)\n",
    "print('*'*50)\n",
    "######################################################################\n",
    "\n",
    "# Predictions \n",
    "y_train_pred = model.predict(X_train)\n",
    "\n",
    "# training accuracy\n",
    "train_mse = mean_squared_error(y_train, y_train_pred)\n",
    "train_rmse = np.sqrt(mean_squared_error(y_train, y_train_pred))\n",
    "train_r2 = r2_score(y_train, y_train_pred)\n",
    "\n",
    "print(f'Training Mean Squared Error: {train_mse}')\n",
    "print(f'Training Root Mean Squared Error: {train_rmse}')\n",
    "print(f'Training R-squared: {train_r2}')\n",
    "print('*'*50)\n",
    "print('*'*50)\n",
    "\n",
    "# testing accuracy\n",
    "test_mse = mean_squared_error(y_test, y_pred)\n",
    "test_rmse = np.sqrt(mean_squared_error(y_test, y_pred))\n",
    "test_r2 = r2_score(y_test, y_pred)\n",
    "\n",
    "print(f'Testing Mean Squared Error: {test_mse}')\n",
    "print(f'Testing Root Mean Squared Error: {test_rmse}')\n",
    "print(f'Testing R-squared: {test_r2}')"
   ]
  },
  {
   "cell_type": "code",
   "execution_count": 24,
   "id": "7a82160a",
   "metadata": {},
   "outputs": [
    {
     "data": {
      "image/png": "[encoded data removed]",
      "text/plain": [
       "<Figure size 1400x1000 with 1 Axes>"
      ]
     },
     "metadata": {},
     "output_type": "display_data"
    }
   ],
   "source": [
    "import matplotlib.pyplot as plt\n",
    "\n",
    "plt.figure(figsize=(14, 10))\n",
    "plt.scatter(y_test, y_pred)\n",
    "plt.xlabel('Actual Values')\n",
    "plt.ylabel('Predicted Values')\n",
    "plt.title('Actual vs Predicted Values')\n",
    "plt.show()\n"
   ]
  },
  {
   "cell_type": "code",
   "execution_count": 25,
   "id": "a4907334",
   "metadata": {},
   "outputs": [
    {
     "data": {
      "text/plain": [
       "<seaborn.axisgrid.FacetGrid at 0x19c802cdd90>"
      ]
     },
     "execution_count": 25,
     "metadata": {},
     "output_type": "execute_result"
    },
    {
     "data": {
      "image/png": "[encoded data removed]",
      "text/plain": [
       "<Figure size 500x500 with 1 Axes>"
      ]
     },
     "metadata": {},
     "output_type": "display_data"
    }
   ],
   "source": [
    "import seaborn as sns\n",
    "\n",
    "df = pd.DataFrame({'Actual Values': y_test, 'Predicted Values': y_pred})\n",
    "\n",
    "sns.lmplot(data=df, x='Actual Values', y='Predicted Values')\n"
   ]
  },
  {
   "cell_type": "raw",
   "id": "c172c704",
   "metadata": {},
   "source": [
    "from sklearn.ensemble import RandomForestRegressor\n",
    "from sklearn.model_selection import train_test_split\n",
    "from sklearn.preprocessing import LabelEncoder\n",
    "from sklearn.metrics import mean_squared_error, r2_score, mean_absolute_error\n",
    "import numpy as np\n",
    "\n",
    "# Preprocessing\n",
    "le = LabelEncoder()\n",
    "for col in X.columns:\n",
    "    if X[col].dtype == 'object':\n",
    "        X[col] = le.fit_transform(X[col].astype(str))\n",
    "\n",
    "X = X.fillna(X.mean())\n",
    "\n",
    "# Initialize variables\n",
    "best_mse = np.inf\n",
    "best_rmse = np.inf\n",
    "best_mae = np.inf\n",
    "best_r2 = 0\n",
    "best_test_size = 0\n",
    "best_n_estimators = 0\n",
    "\n",
    "# Loop over possible test sizes and n_estimators\n",
    "for test_size in np.arange(0.1, 1.0, 0.1):\n",
    "    for n_estimators in range(1, 101):\n",
    "        # Split the data\n",
    "        X_train, X_test, y_train, y_test = train_test_split(X, y, test_size=test_size, random_state=42)\n",
    "\n",
    "        # Train the model\n",
    "        model = RandomForestRegressor(n_estimators=n_estimators, random_state=42)\n",
    "        model.fit(X_train, y_train)\n",
    "        y_pred = model.predict(X_test)\n",
    "\n",
    "        # Evaluate the model\n",
    "        mse = mean_squared_error(y_test, y_pred)\n",
    "        rmse = np.sqrt(mse)\n",
    "        mae = mean_absolute_error(y_test, y_pred)\n",
    "        r2 = r2_score(y_test, y_pred)\n",
    "\n",
    "        # Check if this is the best model so far\n",
    "        if mse < best_mse and rmse < best_rmse and mae < best_mae and r2 > best_r2:\n",
    "            best_mse = mse\n",
    "            best_rmse = rmse\n",
    "            best_mae = mae\n",
    "            best_r2 = r2\n",
    "            best_test_size = test_size\n",
    "            best_n_estimators = n_estimators\n",
    "\n",
    "print(f'Best Mean Squared Error: {best_mse}')\n",
    "print(f'Best Root Mean Squared Error: {best_rmse}')\n",
    "print(f'Best Mean Absolute Error: {best_mae}')\n",
    "print(f'Best R-squared: {best_r2}')\n",
    "print(f'Best Test Size: {best_test_size}')\n",
    "print(f'Best Number of Estimators: {best_n_estimators}')\n"
   ]
  },
  {
   "cell_type": "code",
   "execution_count": null,
   "id": "2505d8ea",
   "metadata": {},
   "outputs": [],
   "source": []
  }
 ],
 "metadata": {
  "kernelspec": {
   "display_name": "Python 3 (ipykernel)",
   "language": "python",
   "name": "python3"
  },
  "language_info": {
   "codemirror_mode": {
    "name": "ipython",
    "version": 3
   },
   "file_extension": ".py",
   "mimetype": "text/x-python",
   "name": "python",
   "nbconvert_exporter": "python",
   "pygments_lexer": "ipython3",
   "version": "3.11.3"
  }
 },
 "nbformat": 4,
 "nbformat_minor": 5
}
