{
 "cells": [
  {
   "cell_type": "code",
   "execution_count": 1,
   "id": "6d323d30",
   "metadata": {},
   "outputs": [],
   "source": [
    "import pandas as pd"
   ]
  },
  {
   "cell_type": "code",
   "execution_count": 2,
   "id": "c9bb109b",
   "metadata": {},
   "outputs": [],
   "source": [
    "df=pd.read_csv('Laptop_Data.csv')\n",
    "df.drop(columns=['Unnamed: 0'],inplace=True)"
   ]
  },
  {
   "cell_type": "markdown",
   "id": "9fb27734",
   "metadata": {},
   "source": [
    "# Data Cleaning"
   ]
  },
  {
   "cell_type": "markdown",
   "id": "2834078b",
   "metadata": {},
   "source": [
    "### selecting priced data\n",
    "### selecting Common Storage type\n",
    "### removing kg and making the weight column type float64"
   ]
  },
  {
   "cell_type": "markdown",
   "id": "b770c578",
   "metadata": {},
   "source": [
    "weight column is not cleaned yet\n",
    "wait for that"
   ]
  },
  {
   "cell_type": "code",
   "execution_count": 3,
   "id": "421133b7",
   "metadata": {},
   "outputs": [
    {
     "name": "stdout",
     "output_type": "stream",
     "text": [
      "<class 'pandas.core.frame.DataFrame'>\n",
      "Int64Index: 402 entries, 0 to 471\n",
      "Data columns (total 20 columns):\n",
      " #   Column             Non-Null Count  Dtype  \n",
      "---  ------             --------------  -----  \n",
      " 0   Weight             402 non-null    float64\n",
      " 1   Category           399 non-null    object \n",
      " 2   Screen_size        402 non-null    float64\n",
      " 3   Screen_type        334 non-null    object \n",
      " 4   Screen_resolution  387 non-null    object \n",
      " 5   CPU_Brand          402 non-null    object \n",
      " 6   CPU_series         402 non-null    object \n",
      " 7   CPU_model          368 non-null    object \n",
      " 8   RAM                402 non-null    float64\n",
      " 9   Storage_amount     402 non-null    float64\n",
      " 10  Storage_type       402 non-null    object \n",
      " 11  Storage_info       322 non-null    object \n",
      " 12  GPU_Brand          402 non-null    object \n",
      " 13  GPU_Model          394 non-null    object \n",
      " 14  OS                 187 non-null    object \n",
      " 15  original_price     320 non-null    float64\n",
      " 16  after_discount     402 non-null    float64\n",
      " 17  persian_info       402 non-null    object \n",
      " 18  full_info          402 non-null    object \n",
      " 19  discount_percent   402 non-null    float64\n",
      "dtypes: float64(7), object(13)\n",
      "memory usage: 66.0+ KB\n"
     ]
    }
   ],
   "source": [
    "df=df[df['after_discount'].notnull()]\n",
    "df=df[(df['Storage_type']=='SSD') |\n",
    "   (df['Storage_type']=='SSDHDD') |\n",
    "   (df['Storage_type']=='SATA') |\n",
    "   (df['Storage_type']=='SSDSATA')]\n",
    "df['Weight']=df['Weight'].str.replace('KG','').astype('float64')\n",
    "df.info()"
   ]
  },
  {
   "cell_type": "markdown",
   "id": "1946f594",
   "metadata": {},
   "source": [
    "### removing some outliers of screen type column"
   ]
  },
  {
   "cell_type": "code",
   "execution_count": 4,
   "id": "c4778982",
   "metadata": {},
   "outputs": [
    {
     "data": {
      "text/html": [
       "<div>\n",
       "<style scoped>\n",
       "    .dataframe tbody tr th:only-of-type {\n",
       "        vertical-align: middle;\n",
       "    }\n",
       "\n",
       "    .dataframe tbody tr th {\n",
       "        vertical-align: top;\n",
       "    }\n",
       "\n",
       "    .dataframe thead th {\n",
       "        text-align: right;\n",
       "    }\n",
       "</style>\n",
       "<table border=\"1\" class=\"dataframe\">\n",
       "  <thead>\n",
       "    <tr style=\"text-align: right;\">\n",
       "      <th></th>\n",
       "      <th>Weight</th>\n",
       "      <th>Category</th>\n",
       "      <th>Screen_size</th>\n",
       "      <th>Screen_type</th>\n",
       "      <th>Screen_resolution</th>\n",
       "      <th>CPU_Brand</th>\n",
       "      <th>CPU_series</th>\n",
       "      <th>CPU_model</th>\n",
       "      <th>RAM</th>\n",
       "      <th>Storage_amount</th>\n",
       "      <th>Storage_type</th>\n",
       "      <th>Storage_info</th>\n",
       "      <th>GPU_Brand</th>\n",
       "      <th>GPU_Model</th>\n",
       "      <th>OS</th>\n",
       "      <th>original_price</th>\n",
       "      <th>after_discount</th>\n",
       "      <th>persian_info</th>\n",
       "      <th>full_info</th>\n",
       "      <th>discount_percent</th>\n",
       "    </tr>\n",
       "  </thead>\n",
       "  <tbody>\n",
       "    <tr>\n",
       "      <th>0</th>\n",
       "      <td>1.24</td>\n",
       "      <td>مک‌بوک</td>\n",
       "      <td>13.6</td>\n",
       "      <td>13.6inch (diagonal) LED-backlit display with I...</td>\n",
       "      <td>1600 * 2560</td>\n",
       "      <td>Apple</td>\n",
       "      <td>M2</td>\n",
       "      <td>8core CPU with 4 performance cores and 4 effic...</td>\n",
       "      <td>8.0</td>\n",
       "      <td>524288.0</td>\n",
       "      <td>SSD</td>\n",
       "      <td>SSD NVMe</td>\n",
       "      <td>Apple</td>\n",
       "      <td>10 هسته ای</td>\n",
       "      <td>NaN</td>\n",
       "      <td>74000000.0</td>\n",
       "      <td>73000000.0</td>\n",
       "      <td>لپ تاپ اپل 13.6 اینچی مدل Apple MacBook Air 20...</td>\n",
       "      <td>Apple MacBook Air 2022 Midnight MLY43 M2 8GB 5...</td>\n",
       "      <td>1.35</td>\n",
       "    </tr>\n",
       "    <tr>\n",
       "      <th>1</th>\n",
       "      <td>1.24</td>\n",
       "      <td>مک‌بوک</td>\n",
       "      <td>13.6</td>\n",
       "      <td>13.6inch (diagonal) LED-backlit display with I...</td>\n",
       "      <td>1600 * 2560</td>\n",
       "      <td>Apple</td>\n",
       "      <td>M2</td>\n",
       "      <td>8core CPU with 4 performance cores and 4 effic...</td>\n",
       "      <td>8.0</td>\n",
       "      <td>524288.0</td>\n",
       "      <td>SSD</td>\n",
       "      <td>SSD NVMe</td>\n",
       "      <td>Apple</td>\n",
       "      <td>10 هسته ای</td>\n",
       "      <td>NaN</td>\n",
       "      <td>74300000.0</td>\n",
       "      <td>73300000.0</td>\n",
       "      <td>لپ تاپ اپل 13.6 اینچی مدل Apple MacBook Air 20...</td>\n",
       "      <td>Apple MacBook Air 2022 Starlight MLY23 M2 8GB ...</td>\n",
       "      <td>1.35</td>\n",
       "    </tr>\n",
       "    <tr>\n",
       "      <th>2</th>\n",
       "      <td>1.24</td>\n",
       "      <td>مک‌بوک</td>\n",
       "      <td>13.6</td>\n",
       "      <td>13.6inch (diagonal) LED-backlit display with I...</td>\n",
       "      <td>1600 * 2560</td>\n",
       "      <td>Apple</td>\n",
       "      <td>M2</td>\n",
       "      <td>8core CPU with 4 performance cores and 4 effic...</td>\n",
       "      <td>8.0</td>\n",
       "      <td>262144.0</td>\n",
       "      <td>SSD</td>\n",
       "      <td>SSD NVMe</td>\n",
       "      <td>Apple</td>\n",
       "      <td>NaN</td>\n",
       "      <td>NaN</td>\n",
       "      <td>62300000.0</td>\n",
       "      <td>61300000.0</td>\n",
       "      <td>لپ تاپ اپل 13.6 اینچی مدل Apple MacBook Air 20...</td>\n",
       "      <td>Apple MacBook Air 2022 Silver MLXY3 M2 8GB 256...</td>\n",
       "      <td>1.61</td>\n",
       "    </tr>\n",
       "    <tr>\n",
       "      <th>3</th>\n",
       "      <td>1.24</td>\n",
       "      <td>مک‌بوک</td>\n",
       "      <td>13.6</td>\n",
       "      <td>13.6inch (diagonal) LED-backlit display with I...</td>\n",
       "      <td>1600 * 2560</td>\n",
       "      <td>Apple</td>\n",
       "      <td>M2</td>\n",
       "      <td>8core CPU with 4 performance cores and 4 effic...</td>\n",
       "      <td>8.0</td>\n",
       "      <td>524288.0</td>\n",
       "      <td>SSD</td>\n",
       "      <td>SSD NVMe</td>\n",
       "      <td>Apple</td>\n",
       "      <td>10 هسته ای</td>\n",
       "      <td>NaN</td>\n",
       "      <td>75300000.0</td>\n",
       "      <td>74300000.0</td>\n",
       "      <td>لپ تاپ اپل 13.6 اینچی مدل Apple MacBook Air 20...</td>\n",
       "      <td>Apple MacBook Air 2022 Space Gray MLXX3 M2 8GB...</td>\n",
       "      <td>1.33</td>\n",
       "    </tr>\n",
       "    <tr>\n",
       "      <th>4</th>\n",
       "      <td>1.75</td>\n",
       "      <td>نوت بوک (لپ تاپ)</td>\n",
       "      <td>15.6</td>\n",
       "      <td>FHD TN</td>\n",
       "      <td>1080 * 1920</td>\n",
       "      <td>INTEL</td>\n",
       "      <td>Core i3</td>\n",
       "      <td>I3-1115G4</td>\n",
       "      <td>20.0</td>\n",
       "      <td>524288.0</td>\n",
       "      <td>SSD</td>\n",
       "      <td>SSD NVMe</td>\n",
       "      <td>Intel</td>\n",
       "      <td>UHD</td>\n",
       "      <td>Dos</td>\n",
       "      <td>NaN</td>\n",
       "      <td>17270000.0</td>\n",
       "      <td>لپ تاپ لنوو 15.6 اینچی مدل Ideapad 3 پردازنده ...</td>\n",
       "      <td>Ideapad 3 Core i3 1115G4 20GB 512GB SSD Intel ...</td>\n",
       "      <td>0.00</td>\n",
       "    </tr>\n",
       "  </tbody>\n",
       "</table>\n",
       "</div>"
      ],
      "text/plain": [
       "   Weight          Category  Screen_size  \\\n",
       "0    1.24            مک‌بوک         13.6   \n",
       "1    1.24            مک‌بوک         13.6   \n",
       "2    1.24            مک‌بوک         13.6   \n",
       "3    1.24            مک‌بوک         13.6   \n",
       "4    1.75  نوت بوک (لپ تاپ)         15.6   \n",
       "\n",
       "                                         Screen_type Screen_resolution  \\\n",
       "0  13.6inch (diagonal) LED-backlit display with I...       1600 * 2560   \n",
       "1  13.6inch (diagonal) LED-backlit display with I...       1600 * 2560   \n",
       "2  13.6inch (diagonal) LED-backlit display with I...       1600 * 2560   \n",
       "3  13.6inch (diagonal) LED-backlit display with I...       1600 * 2560   \n",
       "4                                             FHD TN       1080 * 1920   \n",
       "\n",
       "  CPU_Brand CPU_series                                          CPU_model  \\\n",
       "0     Apple         M2  8core CPU with 4 performance cores and 4 effic...   \n",
       "1     Apple         M2  8core CPU with 4 performance cores and 4 effic...   \n",
       "2     Apple         M2  8core CPU with 4 performance cores and 4 effic...   \n",
       "3     Apple         M2  8core CPU with 4 performance cores and 4 effic...   \n",
       "4     INTEL    Core i3                                          I3-1115G4   \n",
       "\n",
       "    RAM  Storage_amount Storage_type Storage_info GPU_Brand   GPU_Model   OS  \\\n",
       "0   8.0        524288.0          SSD     SSD NVMe     Apple  10 هسته ای  NaN   \n",
       "1   8.0        524288.0          SSD     SSD NVMe     Apple  10 هسته ای  NaN   \n",
       "2   8.0        262144.0          SSD     SSD NVMe     Apple         NaN  NaN   \n",
       "3   8.0        524288.0          SSD     SSD NVMe     Apple  10 هسته ای  NaN   \n",
       "4  20.0        524288.0          SSD     SSD NVMe     Intel         UHD  Dos   \n",
       "\n",
       "   original_price  after_discount  \\\n",
       "0      74000000.0      73000000.0   \n",
       "1      74300000.0      73300000.0   \n",
       "2      62300000.0      61300000.0   \n",
       "3      75300000.0      74300000.0   \n",
       "4             NaN      17270000.0   \n",
       "\n",
       "                                        persian_info  \\\n",
       "0  لپ تاپ اپل 13.6 اینچی مدل Apple MacBook Air 20...   \n",
       "1  لپ تاپ اپل 13.6 اینچی مدل Apple MacBook Air 20...   \n",
       "2  لپ تاپ اپل 13.6 اینچی مدل Apple MacBook Air 20...   \n",
       "3  لپ تاپ اپل 13.6 اینچی مدل Apple MacBook Air 20...   \n",
       "4  لپ تاپ لنوو 15.6 اینچی مدل Ideapad 3 پردازنده ...   \n",
       "\n",
       "                                           full_info  discount_percent  \n",
       "0  Apple MacBook Air 2022 Midnight MLY43 M2 8GB 5...              1.35  \n",
       "1  Apple MacBook Air 2022 Starlight MLY23 M2 8GB ...              1.35  \n",
       "2  Apple MacBook Air 2022 Silver MLXY3 M2 8GB 256...              1.61  \n",
       "3  Apple MacBook Air 2022 Space Gray MLXX3 M2 8GB...              1.33  \n",
       "4  Ideapad 3 Core i3 1115G4 20GB 512GB SSD Intel ...              0.00  "
      ]
     },
     "execution_count": 4,
     "metadata": {},
     "output_type": "execute_result"
    }
   ],
   "source": [
    "counts = df['Screen_type'].value_counts()\n",
    "df=df[df['Screen_type'].isin(counts[counts > 3].index)]\n",
    "df.head()"
   ]
  },
  {
   "cell_type": "markdown",
   "id": "cf8e6478",
   "metadata": {},
   "source": [
    "screen type is kinda cleaned"
   ]
  },
  {
   "cell_type": "markdown",
   "id": "25d2c28c",
   "metadata": {},
   "source": [
    "# removing outliers of weight column"
   ]
  },
  {
   "cell_type": "code",
   "execution_count": 5,
   "id": "4898a02a",
   "metadata": {},
   "outputs": [
    {
     "data": {
      "text/html": [
       "<div>\n",
       "<style scoped>\n",
       "    .dataframe tbody tr th:only-of-type {\n",
       "        vertical-align: middle;\n",
       "    }\n",
       "\n",
       "    .dataframe tbody tr th {\n",
       "        vertical-align: top;\n",
       "    }\n",
       "\n",
       "    .dataframe thead th {\n",
       "        text-align: right;\n",
       "    }\n",
       "</style>\n",
       "<table border=\"1\" class=\"dataframe\">\n",
       "  <thead>\n",
       "    <tr style=\"text-align: right;\">\n",
       "      <th></th>\n",
       "      <th>Weight</th>\n",
       "      <th>Category</th>\n",
       "      <th>Screen_size</th>\n",
       "      <th>Screen_type</th>\n",
       "      <th>Screen_resolution</th>\n",
       "      <th>CPU_Brand</th>\n",
       "      <th>CPU_series</th>\n",
       "      <th>CPU_model</th>\n",
       "      <th>RAM</th>\n",
       "      <th>Storage_amount</th>\n",
       "      <th>Storage_type</th>\n",
       "      <th>Storage_info</th>\n",
       "      <th>GPU_Brand</th>\n",
       "      <th>GPU_Model</th>\n",
       "      <th>OS</th>\n",
       "      <th>original_price</th>\n",
       "      <th>after_discount</th>\n",
       "      <th>persian_info</th>\n",
       "      <th>full_info</th>\n",
       "      <th>discount_percent</th>\n",
       "    </tr>\n",
       "  </thead>\n",
       "  <tbody>\n",
       "    <tr>\n",
       "      <th>0</th>\n",
       "      <td>1.24</td>\n",
       "      <td>مک‌بوک</td>\n",
       "      <td>13.6</td>\n",
       "      <td>13.6inch (diagonal) LED-backlit display with I...</td>\n",
       "      <td>1600 * 2560</td>\n",
       "      <td>Apple</td>\n",
       "      <td>M2</td>\n",
       "      <td>8core CPU with 4 performance cores and 4 effic...</td>\n",
       "      <td>8.0</td>\n",
       "      <td>524288.0</td>\n",
       "      <td>SSD</td>\n",
       "      <td>SSD NVMe</td>\n",
       "      <td>Apple</td>\n",
       "      <td>10 هسته ای</td>\n",
       "      <td>NaN</td>\n",
       "      <td>74000000.0</td>\n",
       "      <td>73000000.0</td>\n",
       "      <td>لپ تاپ اپل 13.6 اینچی مدل Apple MacBook Air 20...</td>\n",
       "      <td>Apple MacBook Air 2022 Midnight MLY43 M2 8GB 5...</td>\n",
       "      <td>1.35</td>\n",
       "    </tr>\n",
       "    <tr>\n",
       "      <th>1</th>\n",
       "      <td>1.24</td>\n",
       "      <td>مک‌بوک</td>\n",
       "      <td>13.6</td>\n",
       "      <td>13.6inch (diagonal) LED-backlit display with I...</td>\n",
       "      <td>1600 * 2560</td>\n",
       "      <td>Apple</td>\n",
       "      <td>M2</td>\n",
       "      <td>8core CPU with 4 performance cores and 4 effic...</td>\n",
       "      <td>8.0</td>\n",
       "      <td>524288.0</td>\n",
       "      <td>SSD</td>\n",
       "      <td>SSD NVMe</td>\n",
       "      <td>Apple</td>\n",
       "      <td>10 هسته ای</td>\n",
       "      <td>NaN</td>\n",
       "      <td>74300000.0</td>\n",
       "      <td>73300000.0</td>\n",
       "      <td>لپ تاپ اپل 13.6 اینچی مدل Apple MacBook Air 20...</td>\n",
       "      <td>Apple MacBook Air 2022 Starlight MLY23 M2 8GB ...</td>\n",
       "      <td>1.35</td>\n",
       "    </tr>\n",
       "    <tr>\n",
       "      <th>2</th>\n",
       "      <td>1.24</td>\n",
       "      <td>مک‌بوک</td>\n",
       "      <td>13.6</td>\n",
       "      <td>13.6inch (diagonal) LED-backlit display with I...</td>\n",
       "      <td>1600 * 2560</td>\n",
       "      <td>Apple</td>\n",
       "      <td>M2</td>\n",
       "      <td>8core CPU with 4 performance cores and 4 effic...</td>\n",
       "      <td>8.0</td>\n",
       "      <td>262144.0</td>\n",
       "      <td>SSD</td>\n",
       "      <td>SSD NVMe</td>\n",
       "      <td>Apple</td>\n",
       "      <td>NaN</td>\n",
       "      <td>NaN</td>\n",
       "      <td>62300000.0</td>\n",
       "      <td>61300000.0</td>\n",
       "      <td>لپ تاپ اپل 13.6 اینچی مدل Apple MacBook Air 20...</td>\n",
       "      <td>Apple MacBook Air 2022 Silver MLXY3 M2 8GB 256...</td>\n",
       "      <td>1.61</td>\n",
       "    </tr>\n",
       "    <tr>\n",
       "      <th>3</th>\n",
       "      <td>1.24</td>\n",
       "      <td>مک‌بوک</td>\n",
       "      <td>13.6</td>\n",
       "      <td>13.6inch (diagonal) LED-backlit display with I...</td>\n",
       "      <td>1600 * 2560</td>\n",
       "      <td>Apple</td>\n",
       "      <td>M2</td>\n",
       "      <td>8core CPU with 4 performance cores and 4 effic...</td>\n",
       "      <td>8.0</td>\n",
       "      <td>524288.0</td>\n",
       "      <td>SSD</td>\n",
       "      <td>SSD NVMe</td>\n",
       "      <td>Apple</td>\n",
       "      <td>10 هسته ای</td>\n",
       "      <td>NaN</td>\n",
       "      <td>75300000.0</td>\n",
       "      <td>74300000.0</td>\n",
       "      <td>لپ تاپ اپل 13.6 اینچی مدل Apple MacBook Air 20...</td>\n",
       "      <td>Apple MacBook Air 2022 Space Gray MLXX3 M2 8GB...</td>\n",
       "      <td>1.33</td>\n",
       "    </tr>\n",
       "    <tr>\n",
       "      <th>4</th>\n",
       "      <td>1.75</td>\n",
       "      <td>نوت بوک (لپ تاپ)</td>\n",
       "      <td>15.6</td>\n",
       "      <td>FHD TN</td>\n",
       "      <td>1080 * 1920</td>\n",
       "      <td>INTEL</td>\n",
       "      <td>Core i3</td>\n",
       "      <td>I3-1115G4</td>\n",
       "      <td>20.0</td>\n",
       "      <td>524288.0</td>\n",
       "      <td>SSD</td>\n",
       "      <td>SSD NVMe</td>\n",
       "      <td>Intel</td>\n",
       "      <td>UHD</td>\n",
       "      <td>Dos</td>\n",
       "      <td>NaN</td>\n",
       "      <td>17270000.0</td>\n",
       "      <td>لپ تاپ لنوو 15.6 اینچی مدل Ideapad 3 پردازنده ...</td>\n",
       "      <td>Ideapad 3 Core i3 1115G4 20GB 512GB SSD Intel ...</td>\n",
       "      <td>0.00</td>\n",
       "    </tr>\n",
       "  </tbody>\n",
       "</table>\n",
       "</div>"
      ],
      "text/plain": [
       "   Weight          Category  Screen_size  \\\n",
       "0    1.24            مک‌بوک         13.6   \n",
       "1    1.24            مک‌بوک         13.6   \n",
       "2    1.24            مک‌بوک         13.6   \n",
       "3    1.24            مک‌بوک         13.6   \n",
       "4    1.75  نوت بوک (لپ تاپ)         15.6   \n",
       "\n",
       "                                         Screen_type Screen_resolution  \\\n",
       "0  13.6inch (diagonal) LED-backlit display with I...       1600 * 2560   \n",
       "1  13.6inch (diagonal) LED-backlit display with I...       1600 * 2560   \n",
       "2  13.6inch (diagonal) LED-backlit display with I...       1600 * 2560   \n",
       "3  13.6inch (diagonal) LED-backlit display with I...       1600 * 2560   \n",
       "4                                             FHD TN       1080 * 1920   \n",
       "\n",
       "  CPU_Brand CPU_series                                          CPU_model  \\\n",
       "0     Apple         M2  8core CPU with 4 performance cores and 4 effic...   \n",
       "1     Apple         M2  8core CPU with 4 performance cores and 4 effic...   \n",
       "2     Apple         M2  8core CPU with 4 performance cores and 4 effic...   \n",
       "3     Apple         M2  8core CPU with 4 performance cores and 4 effic...   \n",
       "4     INTEL    Core i3                                          I3-1115G4   \n",
       "\n",
       "    RAM  Storage_amount Storage_type Storage_info GPU_Brand   GPU_Model   OS  \\\n",
       "0   8.0        524288.0          SSD     SSD NVMe     Apple  10 هسته ای  NaN   \n",
       "1   8.0        524288.0          SSD     SSD NVMe     Apple  10 هسته ای  NaN   \n",
       "2   8.0        262144.0          SSD     SSD NVMe     Apple         NaN  NaN   \n",
       "3   8.0        524288.0          SSD     SSD NVMe     Apple  10 هسته ای  NaN   \n",
       "4  20.0        524288.0          SSD     SSD NVMe     Intel         UHD  Dos   \n",
       "\n",
       "   original_price  after_discount  \\\n",
       "0      74000000.0      73000000.0   \n",
       "1      74300000.0      73300000.0   \n",
       "2      62300000.0      61300000.0   \n",
       "3      75300000.0      74300000.0   \n",
       "4             NaN      17270000.0   \n",
       "\n",
       "                                        persian_info  \\\n",
       "0  لپ تاپ اپل 13.6 اینچی مدل Apple MacBook Air 20...   \n",
       "1  لپ تاپ اپل 13.6 اینچی مدل Apple MacBook Air 20...   \n",
       "2  لپ تاپ اپل 13.6 اینچی مدل Apple MacBook Air 20...   \n",
       "3  لپ تاپ اپل 13.6 اینچی مدل Apple MacBook Air 20...   \n",
       "4  لپ تاپ لنوو 15.6 اینچی مدل Ideapad 3 پردازنده ...   \n",
       "\n",
       "                                           full_info  discount_percent  \n",
       "0  Apple MacBook Air 2022 Midnight MLY43 M2 8GB 5...              1.35  \n",
       "1  Apple MacBook Air 2022 Starlight MLY23 M2 8GB ...              1.35  \n",
       "2  Apple MacBook Air 2022 Silver MLXY3 M2 8GB 256...              1.61  \n",
       "3  Apple MacBook Air 2022 Space Gray MLXX3 M2 8GB...              1.33  \n",
       "4  Ideapad 3 Core i3 1115G4 20GB 512GB SSD Intel ...              0.00  "
      ]
     },
     "execution_count": 5,
     "metadata": {},
     "output_type": "execute_result"
    }
   ],
   "source": [
    "weight=df['Weight'].value_counts()\n",
    "df=df[df['Weight'].isin(weight[weight>1].index)]\n",
    "df.head()"
   ]
  },
  {
   "cell_type": "markdown",
   "id": "337983a3",
   "metadata": {},
   "source": [
    "now weight is cleaned"
   ]
  },
  {
   "cell_type": "markdown",
   "id": "9bcb0ef9",
   "metadata": {},
   "source": [
    "### doing the same for screen size and resolution"
   ]
  },
  {
   "cell_type": "code",
   "execution_count": 6,
   "id": "0645ee32",
   "metadata": {},
   "outputs": [],
   "source": [
    "sc_size=df['Screen_size'].value_counts()\n",
    "df=df[df['Screen_size'].isin(sc_size[sc_size>1].index)]\n",
    "#df\n",
    "# df.shape"
   ]
  },
  {
   "cell_type": "code",
   "execution_count": 7,
   "id": "e23acc1e",
   "metadata": {
    "scrolled": true
   },
   "outputs": [],
   "source": [
    "sc_res=df['Screen_resolution'].value_counts()\n",
    "df=df[df['Screen_resolution'].isin(sc_res[sc_res>1].index)]\n",
    "#df"
   ]
  },
  {
   "cell_type": "code",
   "execution_count": 8,
   "id": "7ef269b5",
   "metadata": {},
   "outputs": [],
   "source": [
    "df['Screen_type'] = df['Screen_type'].str.lower()\n",
    "df['Screen_type'] = df['Screen_type'].str.strip()\n",
    "df['Screen_type'] = df['Screen_type'].str.replace('\\\\s+', ' ', regex=True)\n",
    "df['Screen_type'] = df['Screen_type'].replace('فول اچ دی', 'full hd')\n",
    "df['Screen_type'] = df['Screen_type'].replace('retina - ips led-backlit lcd', 'ips led-backlit lcd')\n"
   ]
  },
  {
   "cell_type": "code",
   "execution_count": 9,
   "id": "c2145bdc",
   "metadata": {},
   "outputs": [],
   "source": [
    "df['Screen_type'] = df['Screen_type'].replace('full hd (1920×1080)', 'full hd')"
   ]
  },
  {
   "cell_type": "markdown",
   "id": "e31b60e2",
   "metadata": {},
   "source": [
    "THIS WAS A LITTLE BIT TRICKY"
   ]
  },
  {
   "cell_type": "markdown",
   "id": "d9d95986",
   "metadata": {},
   "source": [
    "### CPU MODEL CLEANING"
   ]
  },
  {
   "cell_type": "code",
   "execution_count": 10,
   "id": "a8b45b66",
   "metadata": {},
   "outputs": [],
   "source": [
    "cpu_model=df['CPU_model'].value_counts()\n",
    "df=df[df['CPU_model'].isin(cpu_model[cpu_model>1].index)]\n",
    "#df"
   ]
  },
  {
   "cell_type": "markdown",
   "id": "e65b89b4",
   "metadata": {},
   "source": [
    "cpu model is cleaned"
   ]
  },
  {
   "cell_type": "markdown",
   "id": "956aea6c",
   "metadata": {},
   "source": [
    "### GPU column data cleaning"
   ]
  },
  {
   "cell_type": "code",
   "execution_count": 11,
   "id": "7deacda7",
   "metadata": {},
   "outputs": [
    {
     "data": {
      "text/plain": [
       "Nvidia Gforce    123\n",
       "Intel             83\n",
       "Apple             34\n",
       "Nvidia             7\n",
       "AMD                2\n",
       "AMD Radeon         2\n",
       "Name: GPU_Brand, dtype: int64"
      ]
     },
     "execution_count": 11,
     "metadata": {},
     "output_type": "execute_result"
    }
   ],
   "source": [
    "df['GPU_Brand'].value_counts()"
   ]
  },
  {
   "cell_type": "code",
   "execution_count": 12,
   "id": "cbe56d31",
   "metadata": {},
   "outputs": [],
   "source": [
    "df['GPU_Model'] = df['GPU_Model'].str.lower().str.strip()\n",
    "df['GPU_Model'] = df['GPU_Model'].str.replace('دارای', 'has')\n",
    "df['GPU_Model'] = df['GPU_Model'].str.replace('هسته', 'core')\n",
    "df['GPU_Model'] = df['GPU_Model'].str.replace('پردازش گرافیکی', '')\n",
    "df['GPU_Model'] = df['GPU_Model'].str.replace('ای', '')\n",
    "df['GPU_Model'] = df['GPU_Model'].str.replace('۵۵۰', '550')\n",
    "df['GPU_Model'] = df['GPU_Model'].replace(['uhd','uhd graphics', 'intel® hd graphics','intel uhd graphic','intel® uhd graphics','intel uhd graphics','intel'], 'uhd')\n",
    "df['GPU_Model'] = df['GPU_Model'].replace(['nvidia geforce mx330', 'geforce® mx330'], 'geforce mx330')\n",
    "df['GPU_Model'] = df['GPU_Model'].replace(['nvidia® geforce rtx™3050 ti  laptop gpu with 4gb gddr6','geforce rtx3050', 'rtx 3050','rtx 3050 gddr6','nvidia geforce rtx 3050','rtx™ a2000'], 'rtx 3050')\n",
    "df['GPU_Model'] = df['GPU_Model'].replace(['intel® iris® xe', 'intel iris xe graphics'], 'iris xe graphics')\n",
    "df['GPU_Model'] = df['GPU_Model'].replace(['mx350', 'nvidia geforce mx350'], 'geforce mx350')\n",
    "df['GPU_Model'] = df['GPU_Model'].replace(['geforce mx550 gddr6 - 2gb', 'mx550 gddr6','geforce mx550','nvida mx 550'], 'mx550 gddr6')\n",
    "df['GPU_Model'] = df['GPU_Model'].replace(['iris xe graphics', 'intel iris plus graphics','intel iris','intel® iris™ plus graphics'], 'iris plus')\n",
    "df['GPU_Model'] = df['GPU_Model'].replace(['radeon rx6600m gdd6', 'amd radeon'], 'radeon rx6600m')\n",
    "df['GPU_Model'] = df['GPU_Model'].replace(['nvidia geforce mx450', 'mx450'], 'geforce mx450')\n",
    "df['GPU_Model'] = df['GPU_Model'].replace(['geforce rtx 3060 gddr6', 'geforce rtx 3060'], 'geforce rtx 3060')\n",
    "df['GPU_Model'] = df['GPU_Model'].replace(['gtx 1650 with max-q design', 'nvidia geforce gtx 1650'], 'geforce rtx 3060')\n",
    "df['GPU_Model'] = df['GPU_Model'].replace(['geforce rtx 4060', 'geforce rtx4060 gddr6'], 'geforce rtx 4060')\n",
    "df['GPU_Model'] = df['GPU_Model'].replace('has 19 core','M2 Pro')\n",
    "df['GPU_Model'] = df['GPU_Model'].replace(['10-core gpu','10 core','10core gpu16-core neural engine100gb/s memory bandwidth'],'M2 10')\n",
    "df['GPU_Model'] = df['GPU_Model'].replace(['14core gpu16core neural engine200gb/s memory bandwidth','has 16 core','16core gpu16core neural engine200gb/s memory bandwidth'],'M 16')\n",
    "df['GPU_Model'] = df['GPU_Model'].replace('has 38 core','M2 Max')\n",
    "\n"
   ]
  },
  {
   "cell_type": "code",
   "execution_count": 13,
   "id": "dd16c8a2",
   "metadata": {
    "scrolled": true
   },
   "outputs": [
    {
     "data": {
      "text/plain": [
       "uhd                        53\n",
       "geforce mx330              36\n",
       "rtx 3050                   33\n",
       "iris plus                  29\n",
       "mx550 gddr6                14\n",
       "geforce mx350              13\n",
       "M2 10                      11\n",
       "geforce rtx 3060            9\n",
       "M 16                        7\n",
       "has 19 core                 6\n",
       "geforce rtx 4060            6\n",
       "geforce rtx2050             5\n",
       "geforce mx450               5\n",
       "10 core                     4\n",
       "radeon rx6600m              4\n",
       "mx570 gddr6                 3\n",
       "geforce rtx 3070 gddr6      2\n",
       "geforce rtx 4080            2\n",
       "has 38 core                 2\n",
       "geforce® gtx 1050 gddr5     2\n",
       "has 16 core                 2\n",
       "Name: GPU_Model, dtype: int64"
      ]
     },
     "execution_count": 13,
     "metadata": {},
     "output_type": "execute_result"
    }
   ],
   "source": [
    "df['GPU_Model'].value_counts().head(60)"
   ]
  },
  {
   "cell_type": "code",
   "execution_count": 14,
   "id": "946e75d5",
   "metadata": {},
   "outputs": [
    {
     "name": "stdout",
     "output_type": "stream",
     "text": [
      "<class 'pandas.core.frame.DataFrame'>\n",
      "Int64Index: 251 entries, 0 to 466\n",
      "Data columns (total 20 columns):\n",
      " #   Column             Non-Null Count  Dtype  \n",
      "---  ------             --------------  -----  \n",
      " 0   Weight             251 non-null    float64\n",
      " 1   Category           251 non-null    object \n",
      " 2   Screen_size        251 non-null    float64\n",
      " 3   Screen_type        251 non-null    object \n",
      " 4   Screen_resolution  251 non-null    object \n",
      " 5   CPU_Brand          251 non-null    object \n",
      " 6   CPU_series         251 non-null    object \n",
      " 7   CPU_model          251 non-null    object \n",
      " 8   RAM                251 non-null    float64\n",
      " 9   Storage_amount     251 non-null    float64\n",
      " 10  Storage_type       251 non-null    object \n",
      " 11  Storage_info       209 non-null    object \n",
      " 12  GPU_Brand          251 non-null    object \n",
      " 13  GPU_Model          248 non-null    object \n",
      " 14  OS                 114 non-null    object \n",
      " 15  original_price     206 non-null    float64\n",
      " 16  after_discount     251 non-null    float64\n",
      " 17  persian_info       251 non-null    object \n",
      " 18  full_info          251 non-null    object \n",
      " 19  discount_percent   251 non-null    float64\n",
      "dtypes: float64(7), object(13)\n",
      "memory usage: 41.2+ KB\n"
     ]
    }
   ],
   "source": [
    "df.info()"
   ]
  },
  {
   "cell_type": "markdown",
   "id": "210024cb",
   "metadata": {},
   "source": [
    "# Machine Learning"
   ]
  },
  {
   "cell_type": "code",
   "execution_count": 15,
   "id": "8242506e",
   "metadata": {},
   "outputs": [],
   "source": [
    "X=df.drop(columns=['Storage_info','OS','original_price','after_discount',\n",
    "                  'persian_info','full_info','discount_percent'])"
   ]
  },
  {
   "cell_type": "code",
   "execution_count": 16,
   "id": "1ae651c1",
   "metadata": {},
   "outputs": [
    {
     "name": "stdout",
     "output_type": "stream",
     "text": [
      "<class 'pandas.core.frame.DataFrame'>\n",
      "Int64Index: 251 entries, 0 to 466\n",
      "Data columns (total 13 columns):\n",
      " #   Column             Non-Null Count  Dtype  \n",
      "---  ------             --------------  -----  \n",
      " 0   Weight             251 non-null    float64\n",
      " 1   Category           251 non-null    object \n",
      " 2   Screen_size        251 non-null    float64\n",
      " 3   Screen_type        251 non-null    object \n",
      " 4   Screen_resolution  251 non-null    object \n",
      " 5   CPU_Brand          251 non-null    object \n",
      " 6   CPU_series         251 non-null    object \n",
      " 7   CPU_model          251 non-null    object \n",
      " 8   RAM                251 non-null    float64\n",
      " 9   Storage_amount     251 non-null    float64\n",
      " 10  Storage_type       251 non-null    object \n",
      " 11  GPU_Brand          251 non-null    object \n",
      " 12  GPU_Model          248 non-null    object \n",
      "dtypes: float64(4), object(9)\n",
      "memory usage: 27.5+ KB\n"
     ]
    }
   ],
   "source": [
    "X.info()"
   ]
  },
  {
   "cell_type": "code",
   "execution_count": 17,
   "id": "572f3401",
   "metadata": {},
   "outputs": [
    {
     "data": {
      "text/plain": [
       "(251,)"
      ]
     },
     "execution_count": 17,
     "metadata": {},
     "output_type": "execute_result"
    }
   ],
   "source": [
    "y=df['after_discount']\n",
    "y.mean()\n",
    "y.shape"
   ]
  },
  {
   "cell_type": "code",
   "execution_count": 18,
   "id": "5aef5962",
   "metadata": {},
   "outputs": [
    {
     "data": {
      "text/html": [
       "<div>\n",
       "<style scoped>\n",
       "    .dataframe tbody tr th:only-of-type {\n",
       "        vertical-align: middle;\n",
       "    }\n",
       "\n",
       "    .dataframe tbody tr th {\n",
       "        vertical-align: top;\n",
       "    }\n",
       "\n",
       "    .dataframe thead th {\n",
       "        text-align: right;\n",
       "    }\n",
       "</style>\n",
       "<table border=\"1\" class=\"dataframe\">\n",
       "  <thead>\n",
       "    <tr style=\"text-align: right;\">\n",
       "      <th></th>\n",
       "      <th>Weight</th>\n",
       "      <th>Screen_size</th>\n",
       "      <th>RAM</th>\n",
       "      <th>Storage_amount</th>\n",
       "      <th>original_price</th>\n",
       "      <th>after_discount</th>\n",
       "      <th>discount_percent</th>\n",
       "    </tr>\n",
       "  </thead>\n",
       "  <tbody>\n",
       "    <tr>\n",
       "      <th>count</th>\n",
       "      <td>251.000000</td>\n",
       "      <td>251.000000</td>\n",
       "      <td>251.000000</td>\n",
       "      <td>2.510000e+02</td>\n",
       "      <td>2.060000e+02</td>\n",
       "      <td>2.510000e+02</td>\n",
       "      <td>251.000000</td>\n",
       "    </tr>\n",
       "    <tr>\n",
       "      <th>mean</th>\n",
       "      <td>1.833116</td>\n",
       "      <td>15.342231</td>\n",
       "      <td>14.788845</td>\n",
       "      <td>6.046414e+05</td>\n",
       "      <td>4.511326e+07</td>\n",
       "      <td>4.526173e+07</td>\n",
       "      <td>0.721673</td>\n",
       "    </tr>\n",
       "    <tr>\n",
       "      <th>std</th>\n",
       "      <td>0.333320</td>\n",
       "      <td>0.802377</td>\n",
       "      <td>7.850556</td>\n",
       "      <td>1.013591e+06</td>\n",
       "      <td>3.063241e+07</td>\n",
       "      <td>3.174641e+07</td>\n",
       "      <td>0.732725</td>\n",
       "    </tr>\n",
       "    <tr>\n",
       "      <th>min</th>\n",
       "      <td>1.200000</td>\n",
       "      <td>13.300000</td>\n",
       "      <td>4.000000</td>\n",
       "      <td>1.024000e+03</td>\n",
       "      <td>1.100000e+07</td>\n",
       "      <td>1.090000e+07</td>\n",
       "      <td>0.000000</td>\n",
       "    </tr>\n",
       "    <tr>\n",
       "      <th>25%</th>\n",
       "      <td>1.650000</td>\n",
       "      <td>15.600000</td>\n",
       "      <td>8.000000</td>\n",
       "      <td>1.024000e+03</td>\n",
       "      <td>2.375500e+07</td>\n",
       "      <td>2.233400e+07</td>\n",
       "      <td>0.310000</td>\n",
       "    </tr>\n",
       "    <tr>\n",
       "      <th>50%</th>\n",
       "      <td>1.800000</td>\n",
       "      <td>15.600000</td>\n",
       "      <td>16.000000</td>\n",
       "      <td>5.242880e+05</td>\n",
       "      <td>3.594950e+07</td>\n",
       "      <td>3.619900e+07</td>\n",
       "      <td>0.510000</td>\n",
       "    </tr>\n",
       "    <tr>\n",
       "      <th>75%</th>\n",
       "      <td>2.100000</td>\n",
       "      <td>15.600000</td>\n",
       "      <td>16.000000</td>\n",
       "      <td>5.242880e+05</td>\n",
       "      <td>5.462400e+07</td>\n",
       "      <td>5.605600e+07</td>\n",
       "      <td>0.990000</td>\n",
       "    </tr>\n",
       "    <tr>\n",
       "      <th>max</th>\n",
       "      <td>2.500000</td>\n",
       "      <td>18.000000</td>\n",
       "      <td>36.000000</td>\n",
       "      <td>5.243904e+06</td>\n",
       "      <td>1.918000e+08</td>\n",
       "      <td>1.908000e+08</td>\n",
       "      <td>6.140000</td>\n",
       "    </tr>\n",
       "  </tbody>\n",
       "</table>\n",
       "</div>"
      ],
      "text/plain": [
       "           Weight  Screen_size         RAM  Storage_amount  original_price  \\\n",
       "count  251.000000   251.000000  251.000000    2.510000e+02    2.060000e+02   \n",
       "mean     1.833116    15.342231   14.788845    6.046414e+05    4.511326e+07   \n",
       "std      0.333320     0.802377    7.850556    1.013591e+06    3.063241e+07   \n",
       "min      1.200000    13.300000    4.000000    1.024000e+03    1.100000e+07   \n",
       "25%      1.650000    15.600000    8.000000    1.024000e+03    2.375500e+07   \n",
       "50%      1.800000    15.600000   16.000000    5.242880e+05    3.594950e+07   \n",
       "75%      2.100000    15.600000   16.000000    5.242880e+05    5.462400e+07   \n",
       "max      2.500000    18.000000   36.000000    5.243904e+06    1.918000e+08   \n",
       "\n",
       "       after_discount  discount_percent  \n",
       "count    2.510000e+02        251.000000  \n",
       "mean     4.526173e+07          0.721673  \n",
       "std      3.174641e+07          0.732725  \n",
       "min      1.090000e+07          0.000000  \n",
       "25%      2.233400e+07          0.310000  \n",
       "50%      3.619900e+07          0.510000  \n",
       "75%      5.605600e+07          0.990000  \n",
       "max      1.908000e+08          6.140000  "
      ]
     },
     "execution_count": 18,
     "metadata": {},
     "output_type": "execute_result"
    }
   ],
   "source": [
    "df.describe()"
   ]
  },
  {
   "cell_type": "markdown",
   "id": "edb82f4d",
   "metadata": {},
   "source": [
    "# Model "
   ]
  },
  {
   "cell_type": "code",
   "execution_count": 19,
   "id": "db3284c5",
   "metadata": {},
   "outputs": [
    {
     "name": "stdout",
     "output_type": "stream",
     "text": [
      "Mean Squared Error: 15526095296367.6\n",
      "Root Mean Squared Error: 3940316.649251377\n",
      "R-squared: 0.9754865968588778\n"
     ]
    }
   ],
   "source": [
    "from sklearn.ensemble import RandomForestRegressor\n",
    "from sklearn.model_selection import train_test_split\n",
    "from sklearn.preprocessing import LabelEncoder\n",
    "from sklearn.metrics import mean_squared_error\n",
    "import numpy as np\n",
    "from sklearn.metrics import mean_squared_error, r2_score\n",
    "######################################################################\n",
    "le = LabelEncoder()\n",
    "for col in X.columns:\n",
    "    if X[col].dtype == 'object':\n",
    "        X[col] = le.fit_transform(X[col].astype(str))\n",
    "\n",
    "X = X.fillna(X.mean())\n",
    "######################################################################\n",
    "X_train, X_test, y_train, y_test = train_test_split(X, y, test_size=0.09, random_state=42)\n",
    "######################################################################\n",
    "\n",
    "######################################################################\n",
    "\n",
    "# Train the model\n",
    "model = RandomForestRegressor(n_estimators=98, random_state=42)\n",
    "model.fit(X_train, y_train)\n",
    "y_pred = model.predict(X_test)\n",
    "\n",
    "# Evaluate the model\n",
    "mse = mean_squared_error(y_test, y_pred)\n",
    "print(f'Mean Squared Error: {mse}')\n",
    "rmse = np.sqrt(mean_squared_error(y_test, y_pred))\n",
    "print('Root Mean Squared Error:', rmse)\n",
    "r2 = r2_score(y_test, y_pred)\n",
    "print(f'R-squared: {r2}')"
   ]
  },
  {
   "cell_type": "code",
   "execution_count": 20,
   "id": "38019c67",
   "metadata": {},
   "outputs": [
    {
     "name": "stdout",
     "output_type": "stream",
     "text": [
      "Training Mean Squared Error: 10925804172465.158\n",
      "Training Root Mean Squared Error: 3305420.4229515432\n",
      "Training R-squared: 0.98949841547815\n",
      "Testing Mean Squared Error: 15526095296367.6\n",
      "Testing Root Mean Squared Error: 3940316.649251377\n",
      "Testing R-squared: 0.9754865968588778\n"
     ]
    }
   ],
   "source": [
    "from sklearn.metrics import accuracy_score\n",
    "\n",
    "# Predictions for the training set\n",
    "y_train_pred = model.predict(X_train)\n",
    "\n",
    "# Calculate training accuracy\n",
    "train_mse = mean_squared_error(y_train, y_train_pred)\n",
    "train_rmse = np.sqrt(mean_squared_error(y_train, y_train_pred))\n",
    "train_r2 = r2_score(y_train, y_train_pred)\n",
    "\n",
    "print(f'Training Mean Squared Error: {train_mse}')\n",
    "print(f'Training Root Mean Squared Error: {train_rmse}')\n",
    "print(f'Training R-squared: {train_r2}')\n",
    "\n",
    "# Calculate testing accuracy\n",
    "test_mse = mean_squared_error(y_test, y_pred)\n",
    "test_rmse = np.sqrt(mean_squared_error(y_test, y_pred))\n",
    "test_r2 = r2_score(y_test, y_pred)\n",
    "\n",
    "print(f'Testing Mean Squared Error: {test_mse}')\n",
    "print(f'Testing Root Mean Squared Error: {test_rmse}')\n",
    "print(f'Testing R-squared: {test_r2}')\n"
   ]
  },
  {
   "cell_type": "raw",
   "id": "ca089cff",
   "metadata": {},
   "source": []
  },
  {
   "cell_type": "code",
   "execution_count": 21,
   "id": "98c39df1",
   "metadata": {},
   "outputs": [],
   "source": []
  },
  {
   "cell_type": "code",
   "execution_count": null,
   "id": "e9cce718",
   "metadata": {},
   "outputs": [],
   "source": []
  },
  {
   "cell_type": "code",
   "execution_count": 22,
   "id": "9e63ff68",
   "metadata": {},
   "outputs": [],
   "source": []
  },
  {
   "cell_type": "code",
   "execution_count": 23,
   "id": "7a82160a",
   "metadata": {},
   "outputs": [
    {
     "data": {
      "image/png": "[encoded data removed]",
      "text/plain": [
       "<Figure size 1400x1000 with 1 Axes>"
      ]
     },
     "metadata": {},
     "output_type": "display_data"
    },
    {
     "name": "stdout",
     "output_type": "stream",
     "text": [
      "Mean Absolute Error (MAE): 2702231.467162432\n"
     ]
    }
   ],
   "source": [
    "import matplotlib.pyplot as plt\n",
    "\n",
    "# Plotting predicted vs actual values\n",
    "plt.figure(figsize=(14, 10))\n",
    "plt.scatter(y_test, y_pred)\n",
    "plt.xlabel('Actual Values')\n",
    "plt.ylabel('Predicted Values')\n",
    "plt.title('Actual vs Predicted Values')\n",
    "plt.show()\n",
    "\n",
    "from sklearn.metrics import mean_absolute_error\n",
    "\n",
    "mae = mean_absolute_error(y_test, y_pred)\n",
    "print(f'Mean Absolute Error (MAE): {mae}')\n",
    "\n"
   ]
  },
  {
   "cell_type": "raw",
   "id": "73e74dd3",
   "metadata": {},
   "source": [
    "Mean Absolute Error (MAE) is a measure of errors between paired observations expressing the same phenomenon. In your case, the MAE of 2743448.045561087 means that, on average, your model’s predictions are approximately 2743448 units away from the actual values.\n"
   ]
  },
  {
   "cell_type": "code",
   "execution_count": null,
   "id": "85f10ec8",
   "metadata": {},
   "outputs": [],
   "source": []
  },
  {
   "cell_type": "code",
   "execution_count": 24,
   "id": "c2563c31",
   "metadata": {},
   "outputs": [],
   "source": [
    "# score=0.75\n",
    "# for i in range(1,200):\n",
    "#     n=i\n",
    "#     rf = RandomForestRegressor(n_estimators=n, random_state=42)\n",
    "#     rf.fit(X_train, y_train)\n",
    "#     temp_score=rf.score(X_test,y_test)\n",
    "#     if(temp_score>score):\n",
    "#         print(i,'***',temp_score)"
   ]
  },
  {
   "cell_type": "code",
   "execution_count": null,
   "id": "18a49ca2",
   "metadata": {},
   "outputs": [],
   "source": []
  },
  {
   "cell_type": "raw",
   "id": "29c45efb",
   "metadata": {},
   "source": []
  },
  {
   "cell_type": "code",
   "execution_count": null,
   "id": "2505d8ea",
   "metadata": {},
   "outputs": [],
   "source": []
  }
 ],
 "metadata": {
  "kernelspec": {
   "display_name": "Python 3 (ipykernel)",
   "language": "python",
   "name": "python3"
  },
  "language_info": {
   "codemirror_mode": {
    "name": "ipython",
    "version": 3
   },
   "file_extension": ".py",
   "mimetype": "text/x-python",
   "name": "python",
   "nbconvert_exporter": "python",
   "pygments_lexer": "ipython3",
   "version": "3.11.3"
  }
 },
 "nbformat": 4,
 "nbformat_minor": 5
}
